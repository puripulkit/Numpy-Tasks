{
  "cells": [
    {
      "cell_type": "markdown",
      "metadata": {
        "id": "RfycsW-26TPv"
      },
      "source": [
        "# Numpy\n",
        "\n"
      ]
    },
    {
      "cell_type": "markdown",
      "metadata": {
        "id": "pT16Znkb6TP0"
      },
      "source": [
        "#### 1. Import the numpy package under the name `np` (★☆☆) \n",
        "(**hint**: import … as …)"
      ]
    },
    {
      "cell_type": "code",
      "execution_count": 29,
      "metadata": {
        "collapsed": true,
        "id": "rmKp09u96TP1"
      },
      "outputs": [],
      "source": [
        "import numpy as np"
      ]
    },
    {
      "cell_type": "markdown",
      "metadata": {
        "id": "CnmAohr96TP2"
      },
      "source": [
        "[link text](https://)#### 2. Print the numpy version and the configuration (★☆☆) \n",
        "(**hint**: np.\\_\\_version\\_\\_, np.show\\_config)"
      ]
    },
    {
      "cell_type": "code",
      "execution_count": 30,
      "metadata": {
        "id": "HJYKAMkU6TP3",
        "colab": {
          "base_uri": "https://localhost:8080/"
        },
        "outputId": "7d8e410f-6494-4cd7-e120-da0c886bccc1"
      },
      "outputs": [
        {
          "output_type": "stream",
          "name": "stdout",
          "text": [
            "1.19.5\n",
            "blas_mkl_info:\n",
            "  NOT AVAILABLE\n",
            "blis_info:\n",
            "  NOT AVAILABLE\n",
            "openblas_info:\n",
            "    libraries = ['openblas', 'openblas']\n",
            "    library_dirs = ['/usr/local/lib']\n",
            "    language = c\n",
            "    define_macros = [('HAVE_CBLAS', None)]\n",
            "blas_opt_info:\n",
            "    libraries = ['openblas', 'openblas']\n",
            "    library_dirs = ['/usr/local/lib']\n",
            "    language = c\n",
            "    define_macros = [('HAVE_CBLAS', None)]\n",
            "lapack_mkl_info:\n",
            "  NOT AVAILABLE\n",
            "openblas_lapack_info:\n",
            "    libraries = ['openblas', 'openblas']\n",
            "    library_dirs = ['/usr/local/lib']\n",
            "    language = c\n",
            "    define_macros = [('HAVE_CBLAS', None)]\n",
            "lapack_opt_info:\n",
            "    libraries = ['openblas', 'openblas']\n",
            "    library_dirs = ['/usr/local/lib']\n",
            "    language = c\n",
            "    define_macros = [('HAVE_CBLAS', None)]\n",
            "None\n"
          ]
        }
      ],
      "source": [
        "print(np.__version__)\n",
        "print(np.show_config())"
      ]
    },
    {
      "cell_type": "markdown",
      "metadata": {
        "id": "GqOY-k6u6TP3"
      },
      "source": [
        "#### 3. Create a null vector of size 10 (★☆☆) \n",
        "(**hint**: np.zeros)"
      ]
    },
    {
      "cell_type": "code",
      "execution_count": 31,
      "metadata": {
        "id": "5BK2SIsM6TP4",
        "colab": {
          "base_uri": "https://localhost:8080/"
        },
        "outputId": "9ea55e29-334e-4eb4-b151-33e97b562a72"
      },
      "outputs": [
        {
          "output_type": "execute_result",
          "data": {
            "text/plain": [
              "array([0., 0., 0., 0., 0., 0., 0., 0., 0., 0.])"
            ]
          },
          "metadata": {},
          "execution_count": 31
        }
      ],
      "source": [
        "a=np.zeros(10)\n",
        "a"
      ]
    },
    {
      "cell_type": "markdown",
      "metadata": {
        "id": "StiV5iQx6TP5"
      },
      "source": [
        "*italicized text*#### 4.  How to find the memory size of any array (★☆☆) \n",
        "(**hint**: size, itemsize)"
      ]
    },
    {
      "cell_type": "code",
      "execution_count": 32,
      "metadata": {
        "id": "8kbrv6eP6TP7",
        "colab": {
          "base_uri": "https://localhost:8080/"
        },
        "outputId": "273d556c-ab5f-4dec-fb01-87120bd4d1a7"
      },
      "outputs": [
        {
          "output_type": "stream",
          "name": "stdout",
          "text": [
            "Memory size of a NumPy array: 80\n"
          ]
        }
      ],
      "source": [
        "print(\"Memory size of a NumPy array:\", a.nbytes)"
      ]
    },
    {
      "cell_type": "markdown",
      "metadata": {
        "id": "dEPYljWT6TP7"
      },
      "source": [
        "#### 5.  How to get the documentation of the numpy add function from the command line? (★☆☆) \n",
        "(**hint**: np.info)"
      ]
    },
    {
      "cell_type": "code",
      "execution_count": 33,
      "metadata": {
        "collapsed": true,
        "id": "Yb75IzMV6TP8"
      },
      "outputs": [],
      "source": [
        "np.info(np.add)"
      ]
    },
    {
      "cell_type": "markdown",
      "metadata": {
        "id": "BeVoso6N6TP9"
      },
      "source": [
        "#### 6.  Create a null vector of size 10 but the fifth value which is 1 (★☆☆) \n",
        "(**hint**: array\\[4\\])"
      ]
    },
    {
      "cell_type": "code",
      "execution_count": 34,
      "metadata": {
        "id": "PKpxzj636TP9",
        "colab": {
          "base_uri": "https://localhost:8080/"
        },
        "outputId": "2fbb195f-c4dd-4049-f415-943829dfdbb0"
      },
      "outputs": [
        {
          "output_type": "stream",
          "name": "stdout",
          "text": [
            "[0 0 0 0 1 0 0 0 0 0]\n"
          ]
        }
      ],
      "source": [
        "b=np.array([int(x==4) for x in range(10)])\n",
        "print(b)"
      ]
    },
    {
      "cell_type": "markdown",
      "metadata": {
        "id": "B_fb8xzl6TP-"
      },
      "source": [
        "#### 7.  Create a vector with values ranging from 10 to 49 (★☆☆) \n",
        "(**hint**: np.arange)"
      ]
    },
    {
      "cell_type": "code",
      "execution_count": 35,
      "metadata": {
        "id": "GeeC852N6TP-",
        "colab": {
          "base_uri": "https://localhost:8080/"
        },
        "outputId": "9cc3b151-5cd8-4945-e25b-4d54c7f827e4"
      },
      "outputs": [
        {
          "output_type": "stream",
          "name": "stdout",
          "text": [
            "[10 11 12 13 14 15 16 17 18 19 20 21 22 23 24 25 26 27 28 29 30 31 32 33\n",
            " 34 35 36 37 38 39 40 41 42 43 44 45 46 47 48 49]\n"
          ]
        }
      ],
      "source": [
        "c=np.arange(10,50)\n",
        "print(c)"
      ]
    },
    {
      "cell_type": "markdown",
      "metadata": {
        "id": "2y3B10J56TP_"
      },
      "source": [
        "#### 8.  Reverse a vector (first element becomes last) (★☆☆) \n",
        "(**hint**: array\\[::-1\\])"
      ]
    },
    {
      "cell_type": "code",
      "execution_count": 36,
      "metadata": {
        "id": "r2zLtK4K6TP_",
        "colab": {
          "base_uri": "https://localhost:8080/"
        },
        "outputId": "4121c109-7c21-49e3-fad7-289e492deb34"
      },
      "outputs": [
        {
          "output_type": "stream",
          "name": "stdout",
          "text": [
            "[49 48 47 46 45 44 43 42 41 40 39 38 37 36 35 34 33 32 31 30 29 28 27 26\n",
            " 25 24 23 22 21 20 19 18 17 16 15 14 13 12 11 10]\n"
          ]
        }
      ],
      "source": [
        "rev = c[::-1]\n",
        "print(rev)"
      ]
    },
    {
      "cell_type": "markdown",
      "metadata": {
        "id": "aOU7F2GY6TQA"
      },
      "source": [
        "#### 9.  Create a 3x3 matrix with values ranging from 0 to 8 (★☆☆) \n",
        "(**hint**: reshape)"
      ]
    },
    {
      "cell_type": "code",
      "execution_count": 37,
      "metadata": {
        "id": "QwXmZRII6TQA",
        "colab": {
          "base_uri": "https://localhost:8080/"
        },
        "outputId": "bbebd239-6b65-4dd6-dba2-9c57356d1ef7"
      },
      "outputs": [
        {
          "output_type": "stream",
          "name": "stdout",
          "text": [
            "[[0 1 2]\n",
            " [3 4 5]\n",
            " [6 7 8]]\n"
          ]
        }
      ],
      "source": [
        "x =  np.arange(0, 9).reshape(3,3)\n",
        "print(x)"
      ]
    },
    {
      "cell_type": "markdown",
      "metadata": {
        "id": "g6ZuMIgn6TQA"
      },
      "source": [
        "#### 10. Find indices of non-zero elements from \\[1,2,0,0,4,0\\] (★☆☆) \n",
        "(**hint**: np.nonzero)"
      ]
    },
    {
      "cell_type": "code",
      "execution_count": 124,
      "metadata": {
        "id": "OzBGPzSB6TQB",
        "colab": {
          "base_uri": "https://localhost:8080/"
        },
        "outputId": "9565c91a-6f7b-47bf-f73a-23956d80f48c"
      },
      "outputs": [
        {
          "output_type": "stream",
          "name": "stdout",
          "text": [
            "(array([0, 1, 4]),)\n"
          ]
        }
      ],
      "source": [
        "print(np.nonzero([1,2,0,0,4,0]))    \n"
      ]
    },
    {
      "cell_type": "markdown",
      "metadata": {
        "id": "1Sxf7edn6TQB"
      },
      "source": [
        "#### 11. Create a 3x3 identity matrix (★☆☆) \n",
        "(**hint**: np.eye)"
      ]
    },
    {
      "cell_type": "code",
      "execution_count": 39,
      "metadata": {
        "id": "ZspkWUeq6TQC",
        "colab": {
          "base_uri": "https://localhost:8080/"
        },
        "outputId": "712c8a78-95bc-4430-eb2c-4cec00246746"
      },
      "outputs": [
        {
          "output_type": "execute_result",
          "data": {
            "text/plain": [
              "array([[1., 0., 0.],\n",
              "       [0., 1., 0.],\n",
              "       [0., 0., 1.]])"
            ]
          },
          "metadata": {},
          "execution_count": 39
        }
      ],
      "source": [
        "identity_matrix=np.identity(3)\n",
        "identity_matrix"
      ]
    },
    {
      "cell_type": "markdown",
      "metadata": {
        "id": "Xf-97woW6TQC"
      },
      "source": [
        "#### 12. Create a 3x3x3 array with random values (★☆☆) \n",
        "(**hint**: np.random.random)"
      ]
    },
    {
      "cell_type": "code",
      "execution_count": 40,
      "metadata": {
        "collapsed": true,
        "id": "uRcEcWu96TQD",
        "colab": {
          "base_uri": "https://localhost:8080/"
        },
        "outputId": "8317e0e2-f2e5-4651-94db-d588e3a804cd"
      },
      "outputs": [
        {
          "output_type": "stream",
          "name": "stdout",
          "text": [
            "[[[0.6113251  0.26387216 0.81358639]\n",
            "  [0.87595396 0.20323383 0.57584953]\n",
            "  [0.65632979 0.42868506 0.33691473]]\n",
            "\n",
            " [[0.68505972 0.17251302 0.95071647]\n",
            "  [0.69486528 0.35017726 0.60082979]\n",
            "  [0.79157061 0.06275776 0.4631953 ]]\n",
            "\n",
            " [[0.32774775 0.00215068 0.5155974 ]\n",
            "  [0.17981982 0.36254293 0.00341947]\n",
            "  [0.76651455 0.67191977 0.41288793]]]\n"
          ]
        }
      ],
      "source": [
        "x = np.random.random((3,3,3))\n",
        "print(x)"
      ]
    },
    {
      "cell_type": "markdown",
      "metadata": {
        "id": "EBnwNRw36TQD"
      },
      "source": [
        "#### 13. Create a 10x10 array with random values and find the minimum and maximum values (★☆☆) \n",
        "(**hint**: min, max)"
      ]
    },
    {
      "cell_type": "code",
      "execution_count": 41,
      "metadata": {
        "id": "owDKdKBh6TQD",
        "colab": {
          "base_uri": "https://localhost:8080/"
        },
        "outputId": "b2b7eacb-af6e-4d6a-9e3b-a57826b0d52d"
      },
      "outputs": [
        {
          "output_type": "stream",
          "name": "stdout",
          "text": [
            "Original Array:\n",
            "[[0.60107924 0.44738148 0.38137618 0.67849791 0.97913238 0.9688418\n",
            "  0.27743406 0.23287716 0.66638914 0.5904639 ]\n",
            " [0.12884287 0.60825924 0.87472075 0.99433698 0.797275   0.60446365\n",
            "  0.20990842 0.99068351 0.17310129 0.60169798]\n",
            " [0.81915249 0.17264092 0.47413778 0.5340745  0.38960868 0.65623308\n",
            "  0.20784984 0.38505267 0.12548209 0.15150891]\n",
            " [0.36678393 0.74135998 0.99773698 0.28253562 0.02947247 0.27012845\n",
            "  0.04997009 0.94586786 0.71160773 0.85527993]\n",
            " [0.51689331 0.16535065 0.28096393 0.88478392 0.26424846 0.47683607\n",
            "  0.70176619 0.48960566 0.44575547 0.22203304]\n",
            " [0.59867038 0.47224447 0.59916391 0.60662485 0.22336066 0.43360347\n",
            "  0.68691134 0.79713152 0.18773157 0.96068932]\n",
            " [0.47296224 0.15290479 0.83337301 0.39458699 0.09219083 0.59968635\n",
            "  0.33282011 0.81048601 0.27665824 0.53894045]\n",
            " [0.20507793 0.60814357 0.02286972 0.91224189 0.84852548 0.40583397\n",
            "  0.56512048 0.29447373 0.12529427 0.93677728]\n",
            " [0.70977645 0.59230123 0.9859125  0.1448188  0.59175873 0.67542836\n",
            "  0.14912105 0.3824094  0.94331999 0.30030413]\n",
            " [0.05521617 0.28032019 0.12261786 0.68819983 0.35619439 0.41055017\n",
            "  0.70909678 0.33082696 0.24176897 0.48356824]]\n",
            "Minimum and Maximum Values:\n",
            "0.02286972217060268 0.9977369806114308\n"
          ]
        }
      ],
      "source": [
        "x = np.random.random((10,10))\n",
        "print(\"Original Array:\")\n",
        "print(x) \n",
        "xmin, xmax = x.min(), x.max()\n",
        "print(\"Minimum and Maximum Values:\")\n",
        "print(xmin, xmax)"
      ]
    },
    {
      "cell_type": "markdown",
      "metadata": {
        "id": "U56svlZf6TQD"
      },
      "source": [
        "#### 14. Create a random vector of size 30 and find the mean value (★☆☆) \n",
        "(**hint**: mean)"
      ]
    },
    {
      "cell_type": "code",
      "execution_count": 42,
      "metadata": {
        "id": "xwO5XRx56TQE",
        "colab": {
          "base_uri": "https://localhost:8080/"
        },
        "outputId": "99fc003d-257e-43c8-8371-d2cc2ae85033"
      },
      "outputs": [
        {
          "output_type": "execute_result",
          "data": {
            "text/plain": [
              "0.5166415107542103"
            ]
          },
          "metadata": {},
          "execution_count": 42
        }
      ],
      "source": [
        "x = np.random.random(30)\n",
        "np.mean(x)"
      ]
    },
    {
      "cell_type": "markdown",
      "metadata": {
        "id": "NSDiRF_96TQE"
      },
      "source": [
        "#### 15. Create a 2d array with 1 on the border and 0 inside (★☆☆) \n",
        "(**hint**: array\\[1:-1, 1:-1\\])"
      ]
    },
    {
      "cell_type": "code",
      "execution_count": 43,
      "metadata": {
        "id": "RTNcGo3o6TQF",
        "colab": {
          "base_uri": "https://localhost:8080/"
        },
        "outputId": "ec421148-7949-482d-e805-00e5b57afe29"
      },
      "outputs": [
        {
          "output_type": "stream",
          "name": "stdout",
          "text": [
            "[[1. 1. 1. 1. 1.]\n",
            " [1. 0. 0. 0. 1.]\n",
            " [1. 0. 0. 0. 1.]\n",
            " [1. 0. 0. 0. 1.]\n",
            " [1. 1. 1. 1. 1.]]\n"
          ]
        }
      ],
      "source": [
        "x = np.ones((5,5))\n",
        "x[1:-1,1:-1] = 0\n",
        "print(x)"
      ]
    },
    {
      "cell_type": "markdown",
      "metadata": {
        "id": "jJnTxcyi6TQF"
      },
      "source": [
        "#### 16. How to add a border (filled with 0's) around an existing array? (★☆☆) \n",
        "(**hint**: np.pad)"
      ]
    },
    {
      "cell_type": "code",
      "execution_count": 44,
      "metadata": {
        "id": "iW32375L6TQF",
        "colab": {
          "base_uri": "https://localhost:8080/"
        },
        "outputId": "71c79d33-e6b7-4e96-b026-bab2415a6c75"
      },
      "outputs": [
        {
          "output_type": "stream",
          "name": "stdout",
          "text": [
            "Original array:\n",
            "[[1. 1. 1.]\n",
            " [1. 1. 1.]\n",
            " [1. 1. 1.]]\n",
            "0 on the border and 1 inside in the array\n",
            "[[0. 0. 0. 0. 0.]\n",
            " [0. 1. 1. 1. 0.]\n",
            " [0. 1. 1. 1. 0.]\n",
            " [0. 1. 1. 1. 0.]\n",
            " [0. 0. 0. 0. 0.]]\n"
          ]
        }
      ],
      "source": [
        "x = np.ones((3,3))\n",
        "print(\"Original array:\")\n",
        "print(x)\n",
        "print(\"0 on the border and 1 inside in the array\")\n",
        "x = np.pad(x, pad_width=1, mode='constant', constant_values=0)\n",
        "print(x)"
      ]
    },
    {
      "cell_type": "markdown",
      "metadata": {
        "id": "tx3Ev_Bj6TQG"
      },
      "source": [
        "#### 17. What is the result of the following expression? (★☆☆) \n",
        "(**hint**: NaN = not a number, inf = infinity)"
      ]
    },
    {
      "cell_type": "markdown",
      "metadata": {
        "id": "iD_QvVot6TQG"
      },
      "source": [
        "```python\n",
        "0 * np.nan\n",
        "np.nan == np.nan\n",
        "np.inf > np.nan\n",
        "np.nan - np.nan\n",
        "0.3 == 3 * 0.1\n",
        "```"
      ]
    },
    {
      "cell_type": "code",
      "execution_count": 125,
      "metadata": {
        "id": "H6BFlIiK6TQG",
        "colab": {
          "base_uri": "https://localhost:8080/"
        },
        "outputId": "5b2661c0-d79e-447c-8b70-294aa93f3eac"
      },
      "outputs": [
        {
          "output_type": "stream",
          "name": "stdout",
          "text": [
            "nan\n",
            "False\n",
            "False\n",
            "nan\n",
            "True\n",
            "False\n"
          ]
        }
      ],
      "source": [
        "print(0 * np.nan)\n",
        "print(np.nan == np.nan)\n",
        "print(np.inf > np.nan)\n",
        "print(np.nan - np.nan)\n",
        "print(np.nan in set([np.nan]))\n",
        "print(0.3 == 3 * 0.1)"
      ]
    },
    {
      "cell_type": "markdown",
      "metadata": {
        "id": "EhYwFH8J6TQH"
      },
      "source": [
        "#### 18. Create a 5x5 matrix with values 1,2,3,4 just below the diagonal (★☆☆) \n",
        "(**hint**: np.diag)"
      ]
    },
    {
      "cell_type": "code",
      "execution_count": 46,
      "metadata": {
        "id": "w-5ATtBZ6TQH",
        "colab": {
          "base_uri": "https://localhost:8080/"
        },
        "outputId": "2fc15e04-bc0a-4c2c-9a01-4a0329b471b1"
      },
      "outputs": [
        {
          "output_type": "stream",
          "name": "stdout",
          "text": [
            "[[1 0 0 0]\n",
            " [0 2 0 0]\n",
            " [0 0 3 0]\n",
            " [0 0 0 4]]\n"
          ]
        }
      ],
      "source": [
        "x = np.diag([1, 2, 3, 4])\n",
        "print(x)"
      ]
    },
    {
      "cell_type": "markdown",
      "metadata": {
        "id": "LsdpsVY66TQH"
      },
      "source": [
        "#### 19. Create a 8x8 matrix and fill it with a checkerboard pattern (★☆☆) \n",
        "(**hint**: array\\[::2\\])"
      ]
    },
    {
      "cell_type": "code",
      "execution_count": 47,
      "metadata": {
        "id": "6fuQe_gD6TQH",
        "colab": {
          "base_uri": "https://localhost:8080/"
        },
        "outputId": "a603fcce-06df-4eb2-e3db-b2f746951959"
      },
      "outputs": [
        {
          "output_type": "stream",
          "name": "stdout",
          "text": [
            "Checkerboard pattern:\n",
            "[[0 1 0 1 0 1 0 1]\n",
            " [1 0 1 0 1 0 1 0]\n",
            " [0 1 0 1 0 1 0 1]\n",
            " [1 0 1 0 1 0 1 0]\n",
            " [0 1 0 1 0 1 0 1]\n",
            " [1 0 1 0 1 0 1 0]\n",
            " [0 1 0 1 0 1 0 1]\n",
            " [1 0 1 0 1 0 1 0]]\n"
          ]
        }
      ],
      "source": [
        "x = np.ones((3,3))\n",
        "print(\"Checkerboard pattern:\")\n",
        "x = np.zeros((8,8),dtype=int)\n",
        "x[1::2,::2] = 1\n",
        "x[::2,1::2] = 1\n",
        "print(x)"
      ]
    },
    {
      "cell_type": "markdown",
      "metadata": {
        "id": "3hvfpKaZ6TQI"
      },
      "source": [
        "#### 20. Consider a (6,7,8) shape array, what is the index (x,y,z) of the 100th element? \n",
        "(**hint**: np.unravel_index)"
      ]
    },
    {
      "cell_type": "code",
      "execution_count": 48,
      "metadata": {
        "id": "IjSg9tpY6TQI",
        "colab": {
          "base_uri": "https://localhost:8080/"
        },
        "outputId": "9c352fb9-785a-4152-f114-a014d6a186ca"
      },
      "outputs": [
        {
          "output_type": "stream",
          "name": "stdout",
          "text": [
            "(1, 5, 4)\n"
          ]
        }
      ],
      "source": [
        "print(np.unravel_index(100, (6,7,8)))\n"
      ]
    },
    {
      "cell_type": "markdown",
      "metadata": {
        "id": "biNs4xhh6TQI"
      },
      "source": [
        "#### 21. Create a checkerboard 8x8 matrix using the tile function (★☆☆) \n",
        "(**hint**: np.tile)"
      ]
    },
    {
      "cell_type": "code",
      "execution_count": 49,
      "metadata": {
        "id": "OTBGzgKn6TQJ",
        "colab": {
          "base_uri": "https://localhost:8080/"
        },
        "outputId": "0175bbb4-a2d9-4c80-8310-9efb12a619ad"
      },
      "outputs": [
        {
          "output_type": "stream",
          "name": "stdout",
          "text": [
            "[[0 1 0 1 0 1 0 1]\n",
            " [1 0 1 0 1 0 1 0]\n",
            " [0 1 0 1 0 1 0 1]\n",
            " [1 0 1 0 1 0 1 0]\n",
            " [0 1 0 1 0 1 0 1]\n",
            " [1 0 1 0 1 0 1 0]\n",
            " [0 1 0 1 0 1 0 1]\n",
            " [1 0 1 0 1 0 1 0]]\n"
          ]
        }
      ],
      "source": [
        "x= np.array([[0,1], [1,0]])\n",
        "ans = np.tile(x,(4,4))\n",
        "print(ans)"
      ]
    },
    {
      "cell_type": "markdown",
      "metadata": {
        "id": "EUWrUGqx6TQJ"
      },
      "source": [
        "#### 22. Normalize a 5x5 random matrix (★☆☆) \n",
        "(**hint**: (x - min) / (max - min))"
      ]
    },
    {
      "cell_type": "code",
      "execution_count": 50,
      "metadata": {
        "id": "PYvpLQgn6TQJ",
        "colab": {
          "base_uri": "https://localhost:8080/"
        },
        "outputId": "05767994-a667-4c97-e5ee-903ff633c79b"
      },
      "outputs": [
        {
          "output_type": "stream",
          "name": "stdout",
          "text": [
            "[[0.86343266 0.55190036 0.61828217 0.31920888 0.50002709]\n",
            " [0.57153896 0.18463197 0.14910456 0.30820588 0.05387973]\n",
            " [0.08049004 0.84789593 0.84064845 0.87581868 0.60549735]\n",
            " [0.57961563 0.94717577 0.1188229  0.51892089 0.34723207]\n",
            " [0.96910173 1.         0.55844196 0.         0.40811369]]\n"
          ]
        }
      ],
      "source": [
        "x = np.random.random((5,5))\n",
        "xmax, xmin = x.max(), x.min()\n",
        "x= (x-xmin)/(xmax-xmin)\n",
        "print(x)"
      ]
    },
    {
      "cell_type": "markdown",
      "metadata": {
        "id": "rAl9ouNb6TQK"
      },
      "source": [
        "#### 23. Create a custom dtype that describes a color as four unsigned bytes (RGBA) (★☆☆) \n",
        "(**hint**: np.dtype)"
      ]
    },
    {
      "cell_type": "code",
      "execution_count": 51,
      "metadata": {
        "collapsed": true,
        "id": "znCwhpXl6TQK",
        "colab": {
          "base_uri": "https://localhost:8080/"
        },
        "outputId": "005b03f7-3144-4d9a-c2bc-9780e0808661"
      },
      "outputs": [
        {
          "output_type": "stream",
          "name": "stderr",
          "text": [
            "/usr/local/lib/python3.7/dist-packages/ipykernel_launcher.py:4: FutureWarning: Passing (type, 1) or '1type' as a synonym of type is deprecated; in a future version of numpy, it will be understood as (type, (1,)) / '(1,)type'.\n",
            "  after removing the cwd from sys.path.\n"
          ]
        }
      ],
      "source": [
        "color = np.dtype([(\"r\", np.ubyte, 1),\n",
        "                  (\"g\", np.ubyte, 1),\n",
        "                  (\"b\", np.ubyte, 1),\n",
        "                  (\"a\", np.ubyte, 1)])"
      ]
    },
    {
      "cell_type": "markdown",
      "metadata": {
        "id": "nNjF797y6TQK"
      },
      "source": [
        "#### 24. Multiply a 5x3 matrix by a 3x2 matrix (real matrix product) (★☆☆) \n",
        "(**hint**: np.dot | @)"
      ]
    },
    {
      "cell_type": "code",
      "execution_count": 52,
      "metadata": {
        "id": "KJQseSdi6TQL",
        "colab": {
          "base_uri": "https://localhost:8080/"
        },
        "outputId": "1eb26f82-02f9-4383-c0f7-092cb75a3148"
      },
      "outputs": [
        {
          "output_type": "stream",
          "name": "stdout",
          "text": [
            "[[3. 3.]\n",
            " [3. 3.]\n",
            " [3. 3.]\n",
            " [3. 3.]\n",
            " [3. 3.]]\n"
          ]
        }
      ],
      "source": [
        "a= np.dot(np.ones((5,3)), np.ones((3,2)))\n",
        "print(a)\n",
        "a= np.ones((5,3)) @ np.ones((3,2))"
      ]
    },
    {
      "cell_type": "markdown",
      "metadata": {
        "id": "_pfajM7g6TQL"
      },
      "source": [
        "#### 25. Given a 1D array, negate all elements which are between 3 and 8, in place. (★☆☆) \n",
        "(**hint**: >, <=)"
      ]
    },
    {
      "cell_type": "code",
      "execution_count": 53,
      "metadata": {
        "id": "lYHe_hwI6TQL",
        "colab": {
          "base_uri": "https://localhost:8080/"
        },
        "outputId": "b3ddcf6e-3d1e-446e-cd54-d99c570b84d2"
      },
      "outputs": [
        {
          "output_type": "stream",
          "name": "stdout",
          "text": [
            "[ 0  1  2  3 -4 -5 -6 -7 -8  9 10]\n"
          ]
        }
      ],
      "source": [
        "b = np.arange(11)\n",
        "b[(3 < b) & (b <= 8)] *= -1\n",
        "print(b)"
      ]
    },
    {
      "cell_type": "markdown",
      "metadata": {
        "id": "-3r0L2eH6TQM"
      },
      "source": [
        "#### 26. What is the output of the following script? (★☆☆) \n",
        "(**hint**: np.sum)"
      ]
    },
    {
      "cell_type": "markdown",
      "metadata": {
        "id": "eVTmOSeu6TQM"
      },
      "source": [
        "```python\n",
        "# Author: Jake VanderPlas\n",
        "\n",
        "print(sum(range(5),-1))\n",
        "from numpy import *\n",
        "print(sum(range(5),-1))\n",
        "```"
      ]
    },
    {
      "cell_type": "code",
      "execution_count": 54,
      "metadata": {
        "id": "JjgP68se6TQM",
        "colab": {
          "base_uri": "https://localhost:8080/"
        },
        "outputId": "ba9a7248-6c6d-4ef1-efaf-d89567320bdd"
      },
      "outputs": [
        {
          "output_type": "stream",
          "name": "stdout",
          "text": [
            "10\n",
            "10\n"
          ]
        }
      ],
      "source": [
        "print(sum(range(5),-1))\n",
        "from numpy import *\n",
        "print(sum(range(5),-1))"
      ]
    },
    {
      "cell_type": "markdown",
      "metadata": {
        "id": "SkauRol06TQM"
      },
      "source": [
        "#### 27. Consider an integer vector Z, which of these expressions are legal? (★☆☆)"
      ]
    },
    {
      "cell_type": "markdown",
      "metadata": {
        "id": "W32_gkHU6TQN"
      },
      "source": [
        "```python\n",
        "Z**Z\n",
        "2 << Z >> 2\n",
        "Z <- Z\n",
        "1j*Z\n",
        "Z/1/1\n",
        "Z<Z>Z\n",
        "```"
      ]
    },
    {
      "cell_type": "code",
      "execution_count": 55,
      "metadata": {
        "id": "dXp-dHNj6TQN",
        "colab": {
          "base_uri": "https://localhost:8080/",
          "height": 235
        },
        "outputId": "27ed1ed4-3bdc-4891-daa0-e99dba2b6aa5"
      },
      "outputs": [
        {
          "output_type": "error",
          "ename": "NameError",
          "evalue": "ignored",
          "traceback": [
            "\u001b[0;31m---------------------------------------------------------------------------\u001b[0m",
            "\u001b[0;31mNameError\u001b[0m                                 Traceback (most recent call last)",
            "\u001b[0;32m<ipython-input-55-4e3654d03fce>\u001b[0m in \u001b[0;36m<module>\u001b[0;34m()\u001b[0m\n\u001b[0;32m----> 1\u001b[0;31m \u001b[0mZ\u001b[0m\u001b[0;34m**\u001b[0m\u001b[0mZ\u001b[0m\u001b[0;34m\u001b[0m\u001b[0;34m\u001b[0m\u001b[0m\n\u001b[0m\u001b[1;32m      2\u001b[0m \u001b[0;36m2\u001b[0m \u001b[0;34m<<\u001b[0m \u001b[0mZ\u001b[0m \u001b[0;34m>>\u001b[0m \u001b[0;36m2\u001b[0m\u001b[0;34m\u001b[0m\u001b[0;34m\u001b[0m\u001b[0m\n\u001b[1;32m      3\u001b[0m \u001b[0mZ\u001b[0m \u001b[0;34m<\u001b[0m\u001b[0;34m-\u001b[0m \u001b[0mZ\u001b[0m\u001b[0;34m\u001b[0m\u001b[0;34m\u001b[0m\u001b[0m\n\u001b[1;32m      4\u001b[0m \u001b[0;36m1j\u001b[0m\u001b[0;34m*\u001b[0m\u001b[0mZ\u001b[0m\u001b[0;34m\u001b[0m\u001b[0;34m\u001b[0m\u001b[0m\n\u001b[1;32m      5\u001b[0m \u001b[0mZ\u001b[0m\u001b[0;34m/\u001b[0m\u001b[0;36m1\u001b[0m\u001b[0;34m/\u001b[0m\u001b[0;36m1\u001b[0m\u001b[0;34m\u001b[0m\u001b[0;34m\u001b[0m\u001b[0m\n",
            "\u001b[0;31mNameError\u001b[0m: name 'Z' is not defined"
          ]
        }
      ],
      "source": [
        "Z**Z\n",
        "2 << Z >> 2\n",
        "Z <- Z\n",
        "1j*Z\n",
        "Z/1/1\n",
        "Z<Z>Z"
      ]
    },
    {
      "cell_type": "markdown",
      "metadata": {
        "id": "hZrSRoyf6TQN"
      },
      "source": [
        "#### 28. What are the result of the following expressions?"
      ]
    },
    {
      "cell_type": "markdown",
      "metadata": {
        "id": "-iqDBmFa6TQO"
      },
      "source": [
        "```python\n",
        "np.array(0) / np.array(0)\n",
        "np.array(0) // np.array(0)\n",
        "np.array([np.nan]).astype(int).astype(float)\n",
        "```"
      ]
    },
    {
      "cell_type": "code",
      "execution_count": 56,
      "metadata": {
        "id": "D7fwXTFs6TQO",
        "colab": {
          "base_uri": "https://localhost:8080/"
        },
        "outputId": "8f33941d-9e56-4fd8-a92b-ea1870b9d1c9"
      },
      "outputs": [
        {
          "output_type": "stream",
          "name": "stdout",
          "text": [
            "nan\n",
            "0\n",
            "[-9.22337204e+18]\n"
          ]
        },
        {
          "output_type": "stream",
          "name": "stderr",
          "text": [
            "/usr/local/lib/python3.7/dist-packages/ipykernel_launcher.py:1: RuntimeWarning: invalid value encountered in true_divide\n",
            "  \"\"\"Entry point for launching an IPython kernel.\n",
            "/usr/local/lib/python3.7/dist-packages/ipykernel_launcher.py:2: RuntimeWarning: divide by zero encountered in floor_divide\n",
            "  \n"
          ]
        }
      ],
      "source": [
        "print(np.array(0) / np.array(0))\n",
        "print(np.array(0) // np.array(0))\n",
        "print(np.array([np.nan]).astype(int).astype(float))"
      ]
    },
    {
      "cell_type": "markdown",
      "metadata": {
        "id": "ncLVMhLe6TQO"
      },
      "source": [
        "#### 29. How to round away from zero a float array ? (★☆☆) \n",
        "(**hint**: np.uniform, np.copysign, np.ceil, np.abs)"
      ]
    },
    {
      "cell_type": "code",
      "execution_count": 57,
      "metadata": {
        "id": "Yt37xuG46TQO",
        "colab": {
          "base_uri": "https://localhost:8080/"
        },
        "outputId": "c7a6d9e0-1c40-448a-c629-d8d299bdd94d"
      },
      "outputs": [
        {
          "output_type": "stream",
          "name": "stdout",
          "text": [
            "[-10.  -3.  -9.  -2.  -6.  -5.  -1.   4.  -7.  -8.]\n"
          ]
        }
      ],
      "source": [
        "Z = np.random.uniform(-10,+10,10)\n",
        "print (np.copysign(np.ceil(np.abs(Z)), Z))"
      ]
    },
    {
      "cell_type": "markdown",
      "metadata": {
        "id": "OFrvqeuL6TQO"
      },
      "source": [
        "#### 30. How to find common values between two arrays? (★☆☆) \n",
        "(**hint**: np.intersect1d)"
      ]
    },
    {
      "cell_type": "code",
      "execution_count": 58,
      "metadata": {
        "id": "_5v4sjL46TQP",
        "colab": {
          "base_uri": "https://localhost:8080/"
        },
        "outputId": "975d7524-8405-4936-80fe-3e893d8096c6"
      },
      "outputs": [
        {
          "output_type": "stream",
          "name": "stdout",
          "text": [
            "[1 6 7 9]\n"
          ]
        }
      ],
      "source": [
        "a1 = np.random.randint(0,10,10)\n",
        "a2 = np.random.randint(0,10,10)\n",
        "print(np.intersect1d(a1,a2))"
      ]
    },
    {
      "cell_type": "markdown",
      "metadata": {
        "id": "WQ-RpEn46TQP"
      },
      "source": [
        "#### 31. How to ignore all numpy warnings (not recommended)? (★☆☆) \n",
        "(**hint**: np.seterr, np.errstate)"
      ]
    },
    {
      "cell_type": "code",
      "execution_count": 58,
      "metadata": {
        "id": "s-7E9px06TQP"
      },
      "outputs": [],
      "source": [
        ""
      ]
    },
    {
      "cell_type": "markdown",
      "metadata": {
        "id": "GtnW108M6TQP"
      },
      "source": [
        "#### 32. Is the following expressions true? (★☆☆) \n",
        "(**hint**: imaginary number)"
      ]
    },
    {
      "cell_type": "markdown",
      "metadata": {
        "id": "iCy-cDK56TQP"
      },
      "source": [
        "```python\n",
        "np.sqrt(-1) == np.emath.sqrt(-1)\n",
        "```"
      ]
    },
    {
      "cell_type": "code",
      "execution_count": 59,
      "metadata": {
        "id": "_eticboC6TQQ",
        "colab": {
          "base_uri": "https://localhost:8080/"
        },
        "outputId": "c27621f6-7add-4a87-a47b-5833e2816bd6"
      },
      "outputs": [
        {
          "output_type": "stream",
          "name": "stderr",
          "text": [
            "/usr/local/lib/python3.7/dist-packages/ipykernel_launcher.py:1: RuntimeWarning: invalid value encountered in sqrt\n",
            "  \"\"\"Entry point for launching an IPython kernel.\n"
          ]
        },
        {
          "output_type": "execute_result",
          "data": {
            "text/plain": [
              "False"
            ]
          },
          "metadata": {},
          "execution_count": 59
        }
      ],
      "source": [
        "np.sqrt(-1) == np.emath.sqrt(-1)"
      ]
    },
    {
      "cell_type": "markdown",
      "metadata": {
        "id": "a16wI4gM6TQQ"
      },
      "source": [
        "#### 33. How to get the dates of yesterday, today and tomorrow? (★☆☆) \n",
        "(**hint**: np.datetime64, np.timedelta64)"
      ]
    },
    {
      "cell_type": "code",
      "execution_count": 60,
      "metadata": {
        "collapsed": true,
        "id": "pq2XmS6I6TQQ",
        "colab": {
          "base_uri": "https://localhost:8080/"
        },
        "outputId": "095f5dea-1bb8-46af-8b4c-414e57b77562"
      },
      "outputs": [
        {
          "output_type": "stream",
          "name": "stdout",
          "text": [
            "2022-01-01\n",
            "2022-01-02\n",
            "2022-01-03\n"
          ]
        }
      ],
      "source": [
        "yesterday= np.datetime64('today', 'D') - np.timedelta64(1, 'D')\n",
        "today = np.datetime64('today', 'D')\n",
        "tomorrow= np.datetime64('today', 'D') + np.timedelta64(1, 'D')\n",
        "print(yesterday)\n",
        "print(today)\n",
        "print(tomorrow)"
      ]
    },
    {
      "cell_type": "markdown",
      "metadata": {
        "id": "DwEO9LuN6TQQ"
      },
      "source": [
        "#### 34. How to get all the dates corresponding to the month of July 2016? (★★☆) \n",
        "(**hint**: np.arange(dtype=datetime64\\['D'\\]))"
      ]
    },
    {
      "cell_type": "code",
      "execution_count": 61,
      "metadata": {
        "id": "GSA3gyvO6TQR",
        "colab": {
          "base_uri": "https://localhost:8080/"
        },
        "outputId": "c109b908-2e6f-47c7-9b83-3086636f6202"
      },
      "outputs": [
        {
          "output_type": "stream",
          "name": "stdout",
          "text": [
            "['2016-07-01' '2016-07-02' '2016-07-03' '2016-07-04' '2016-07-05'\n",
            " '2016-07-06' '2016-07-07' '2016-07-08' '2016-07-09' '2016-07-10'\n",
            " '2016-07-11' '2016-07-12' '2016-07-13' '2016-07-14' '2016-07-15'\n",
            " '2016-07-16' '2016-07-17' '2016-07-18' '2016-07-19' '2016-07-20'\n",
            " '2016-07-21' '2016-07-22' '2016-07-23' '2016-07-24' '2016-07-25'\n",
            " '2016-07-26' '2016-07-27' '2016-07-28' '2016-07-29' '2016-07-30'\n",
            " '2016-07-31']\n"
          ]
        }
      ],
      "source": [
        "a = np.arange('2016-07', '2016-08', dtype='datetime64[D]')\n",
        "print(a)"
      ]
    },
    {
      "cell_type": "markdown",
      "metadata": {
        "id": "q525_X2_6TQR"
      },
      "source": [
        "#### 35. How to compute ((A+B)\\*(-A/2)) in place (without copy)? (★★☆) \n",
        "(**hint**: np.add(out=), np.negative(out=), np.multiply(out=), np.divide(out=))"
      ]
    },
    {
      "cell_type": "code",
      "execution_count": 62,
      "metadata": {
        "id": "a9oPcYSK6TQR",
        "colab": {
          "base_uri": "https://localhost:8080/"
        },
        "outputId": "83ae7f6a-d012-4eba-e65c-9ce6b572dcce"
      },
      "outputs": [
        {
          "output_type": "execute_result",
          "data": {
            "text/plain": [
              "array([-1.5, -1.5, -1.5])"
            ]
          },
          "metadata": {},
          "execution_count": 62
        }
      ],
      "source": [
        "A = np.ones(3)*1\n",
        "B = np.ones(3)*2\n",
        "C = np.ones(3)*3\n",
        "np.add(A,B,out=B)\n",
        "np.divide(A,2,out=A)\n",
        "np.negative(A,out=A)\n",
        "np.multiply(A,B,out=A)"
      ]
    },
    {
      "cell_type": "markdown",
      "metadata": {
        "id": "FfCI8GPt6TQR"
      },
      "source": [
        "#### 36. Extract the integer part of a random array using 5 different methods (★★☆) \n",
        "(**hint**: %, np.floor, np.ceil, astype, np.trunc)"
      ]
    },
    {
      "cell_type": "code",
      "execution_count": 63,
      "metadata": {
        "id": "FHrk_AY36TQS",
        "colab": {
          "base_uri": "https://localhost:8080/"
        },
        "outputId": "71169597-349f-462f-9fd2-645b3c5c4390"
      },
      "outputs": [
        {
          "output_type": "stream",
          "name": "stdout",
          "text": [
            "[4. 5. 5. 9. 3. 6. 0. 5. 6. 8.]\n",
            "[4. 5. 5. 9. 3. 6. 0. 5. 6. 8.]\n",
            "[4. 5. 5. 9. 3. 6. 0. 5. 6. 8.]\n",
            "[4 5 5 9 3 6 0 5 6 8]\n",
            "[4. 5. 5. 9. 3. 6. 0. 5. 6. 8.]\n"
          ]
        }
      ],
      "source": [
        "a = np.random.uniform(0,10,10)\n",
        "\n",
        "print (a - a%1)\n",
        "print (np.floor(a))\n",
        "print (np.ceil(a)-1)\n",
        "print (a.astype(int))\n",
        "print (np.trunc(a))"
      ]
    },
    {
      "cell_type": "markdown",
      "metadata": {
        "id": "NO6URmzu6TQS"
      },
      "source": [
        "#### 37. Create a 5x5 matrix with row values ranging from 0 to 4 (★★☆) \n",
        "(**hint**: np.arange)"
      ]
    },
    {
      "cell_type": "code",
      "execution_count": 64,
      "metadata": {
        "id": "h1zzMYjZ6TQS",
        "colab": {
          "base_uri": "https://localhost:8080/"
        },
        "outputId": "d5ee05c5-1d5f-4d40-e044-96d70fc76376"
      },
      "outputs": [
        {
          "output_type": "stream",
          "name": "stdout",
          "text": [
            "[[0. 1. 2. 3. 4.]\n",
            " [0. 1. 2. 3. 4.]\n",
            " [0. 1. 2. 3. 4.]\n",
            " [0. 1. 2. 3. 4.]\n",
            " [0. 1. 2. 3. 4.]]\n"
          ]
        }
      ],
      "source": [
        "a = np.zeros((5,5))\n",
        "a += np.arange(5)\n",
        "print(a)"
      ]
    },
    {
      "cell_type": "markdown",
      "metadata": {
        "id": "4IqsVPi-6TQS"
      },
      "source": [
        "#### 38. Consider a generator function that generates 10 integers and use it to build an array (★☆☆) \n",
        "(**hint**: np.fromiter)"
      ]
    },
    {
      "cell_type": "code",
      "execution_count": 65,
      "metadata": {
        "id": "FBKZAVrL6TQT",
        "colab": {
          "base_uri": "https://localhost:8080/"
        },
        "outputId": "89374a12-e1e8-4e1f-c5d1-afed825ee918"
      },
      "outputs": [
        {
          "output_type": "stream",
          "name": "stdout",
          "text": [
            "[0. 1. 2. 3. 4. 5. 6. 7. 8. 9.]\n"
          ]
        }
      ],
      "source": [
        "def generate():\n",
        "    for x in range(10):\n",
        "        yield x\n",
        "y = np.fromiter(generate(),dtype=float,count=-1)\n",
        "print(y)"
      ]
    },
    {
      "cell_type": "markdown",
      "metadata": {
        "id": "b4XML0-x6TQT"
      },
      "source": [
        "#### 39. Create a vector of size 10 with values ranging from 0 to 1, both excluded (★★☆) \n",
        "(**hint**: np.linspace)"
      ]
    },
    {
      "cell_type": "code",
      "execution_count": 66,
      "metadata": {
        "id": "bTwWmzl66TQT",
        "colab": {
          "base_uri": "https://localhost:8080/"
        },
        "outputId": "032a15cf-41e3-45ad-8ae6-efab47c5de64"
      },
      "outputs": [
        {
          "output_type": "stream",
          "name": "stdout",
          "text": [
            "[0.09090909 0.18181818 0.27272727 0.36363636 0.45454545 0.54545455\n",
            " 0.63636364 0.72727273 0.81818182 0.90909091]\n"
          ]
        }
      ],
      "source": [
        "x = np.linspace(0,1,11,endpoint=False)[1:]\n",
        "print(x)"
      ]
    },
    {
      "cell_type": "markdown",
      "metadata": {
        "id": "wlBDaRxQ6TQT"
      },
      "source": [
        "#### 40. Create a random vector of size 10 and sort it (★★☆) \n",
        "(**hint**: sort)"
      ]
    },
    {
      "cell_type": "code",
      "execution_count": 67,
      "metadata": {
        "id": "2Foia4Ng6TQU",
        "colab": {
          "base_uri": "https://localhost:8080/"
        },
        "outputId": "3fdc0131-ef16-45d3-939d-42ab8041e6f2"
      },
      "outputs": [
        {
          "output_type": "stream",
          "name": "stdout",
          "text": [
            "[0.00766104 0.20696402 0.26077091 0.26235849 0.46147806 0.59823444\n",
            " 0.65492838 0.85645427 0.88376641 0.96056904]\n"
          ]
        }
      ],
      "source": [
        "x = np.random.random(10)\n",
        "x.sort()\n",
        "print(x)"
      ]
    },
    {
      "cell_type": "markdown",
      "metadata": {
        "id": "Owl3sMF46TQU"
      },
      "source": [
        "#### 41. How to sum a small array faster than np.sum? (★★☆) \n",
        "(**hint**: np.add.reduce)"
      ]
    },
    {
      "cell_type": "code",
      "execution_count": 68,
      "metadata": {
        "id": "eV6Zqgnf6TQU",
        "colab": {
          "base_uri": "https://localhost:8080/"
        },
        "outputId": "1a9118ab-db92-4896-f42b-8f63f0770196"
      },
      "outputs": [
        {
          "output_type": "execute_result",
          "data": {
            "text/plain": [
              "45"
            ]
          },
          "metadata": {},
          "execution_count": 68
        }
      ],
      "source": [
        "x = np.arange(10)\n",
        "np.add.reduce(x)"
      ]
    },
    {
      "cell_type": "markdown",
      "metadata": {
        "id": "-Vst-mkc6TQU"
      },
      "source": [
        "#### 42. Consider two random array A and B, check if they are equal (★★☆) \n",
        "(**hint**: np.allclose, np.array\\_equal)"
      ]
    },
    {
      "cell_type": "code",
      "execution_count": 69,
      "metadata": {
        "id": "6nNNfHiy6TQV",
        "colab": {
          "base_uri": "https://localhost:8080/"
        },
        "outputId": "cbc6e4fd-2ada-4b00-d0a4-78f0bbd573f6"
      },
      "outputs": [
        {
          "output_type": "stream",
          "name": "stdout",
          "text": [
            "False\n",
            "False\n"
          ]
        }
      ],
      "source": [
        "x = np.random.randint(0,2,5)\n",
        "y = np.random.randint(0,2,5)\n",
        "\n",
        "\n",
        "equal = np.allclose(x,y)\n",
        "print(equal)\n",
        "\n",
        "# Checking both the shape and the element values\n",
        "equal = np.array_equal(x,y)\n",
        "print(equal)"
      ]
    },
    {
      "cell_type": "markdown",
      "metadata": {
        "id": "Z1ME6JfK6TQV"
      },
      "source": [
        "#### 43. Make an array immutable (read-only) (★★☆) \n",
        "(**hint**: flags.writeable)"
      ]
    },
    {
      "cell_type": "code",
      "execution_count": 70,
      "metadata": {
        "id": "Zq389OqZ6TQV"
      },
      "outputs": [],
      "source": [
        "#doubt"
      ]
    },
    {
      "cell_type": "markdown",
      "metadata": {
        "id": "oc2yExTH6TQV"
      },
      "source": [
        "#### 44. Consider a random 10x2 matrix representing cartesian coordinates, convert them to polar coordinates (★★☆) \n",
        "(**hint**: np.sqrt, np.arctan2)"
      ]
    },
    {
      "cell_type": "code",
      "execution_count": 71,
      "metadata": {
        "id": "n7OUDyZS6TQV",
        "colab": {
          "base_uri": "https://localhost:8080/"
        },
        "outputId": "9b9a6792-3bbd-4d15-cac3-123beda68960"
      },
      "outputs": [
        {
          "output_type": "stream",
          "name": "stdout",
          "text": [
            "[0.78804046 1.33158022 0.85799909 0.43627265 0.85963568 0.9762922\n",
            " 0.49991651 1.32276733 0.66565337 0.83090207]\n",
            "[0.42868136 0.84452504 0.49970034 0.61250787 0.03542037 1.4769247\n",
            " 0.92361143 0.81829178 0.7336103  1.40824387]\n"
          ]
        }
      ],
      "source": [
        "Z = np.random.random((10,2))\n",
        "X,Y = Z[:,0], Z[:,1]\n",
        "R = np.sqrt(X**2+Y**2)\n",
        "T = np.arctan2(Y,X)\n",
        "print(R)\n",
        "print(T)"
      ]
    },
    {
      "cell_type": "markdown",
      "metadata": {
        "id": "Hv2DyScV6TQW"
      },
      "source": [
        "#### 45. Create random vector of size 10 and replace the maximum value by 0 (★★☆) \n",
        "(**hint**: argmax)"
      ]
    },
    {
      "cell_type": "code",
      "execution_count": 72,
      "metadata": {
        "id": "nhHOUsjq6TQW",
        "colab": {
          "base_uri": "https://localhost:8080/"
        },
        "outputId": "7d87727c-82fa-4582-beb7-0293bfdee23d"
      },
      "outputs": [
        {
          "output_type": "stream",
          "name": "stdout",
          "text": [
            "[0.12152665 0.08962592 0.45463234 0.33173742 0.26684894 0.22957339\n",
            " 0.18676659 0.32372969 0.62361736 0.        ]\n"
          ]
        }
      ],
      "source": [
        "a = np.random.random(10)\n",
        "a[a.argmax()] = 0\n",
        "print(a)"
      ]
    },
    {
      "cell_type": "markdown",
      "metadata": {
        "id": "i-WI_TEy6TQW"
      },
      "source": [
        "#### 46. Create a structured array with `x` and `y` coordinates covering the \\[0,1\\]x\\[0,1\\] area (★★☆) \n",
        "(**hint**: np.meshgrid)"
      ]
    },
    {
      "cell_type": "code",
      "execution_count": 73,
      "metadata": {
        "id": "Zw7m5xvG6TQW",
        "colab": {
          "base_uri": "https://localhost:8080/"
        },
        "outputId": "c2f4b1dc-b335-4d37-9a15-89e5bad2b3ac"
      },
      "outputs": [
        {
          "output_type": "stream",
          "name": "stdout",
          "text": [
            "[[(0.  , 0.  ) (0.25, 0.  ) (0.5 , 0.  ) (0.75, 0.  ) (1.  , 0.  )]\n",
            " [(0.  , 0.25) (0.25, 0.25) (0.5 , 0.25) (0.75, 0.25) (1.  , 0.25)]\n",
            " [(0.  , 0.5 ) (0.25, 0.5 ) (0.5 , 0.5 ) (0.75, 0.5 ) (1.  , 0.5 )]\n",
            " [(0.  , 0.75) (0.25, 0.75) (0.5 , 0.75) (0.75, 0.75) (1.  , 0.75)]\n",
            " [(0.  , 1.  ) (0.25, 1.  ) (0.5 , 1.  ) (0.75, 1.  ) (1.  , 1.  )]]\n"
          ]
        }
      ],
      "source": [
        "Z = np.zeros((5,5), [('x',float),('y',float)])\n",
        "Z['x'], Z['y'] = np.meshgrid(np.linspace(0,1,5),\n",
        "                             np.linspace(0,1,5))\n",
        "print(Z)"
      ]
    },
    {
      "cell_type": "markdown",
      "metadata": {
        "id": "1j62r2d96TQW"
      },
      "source": [
        "####  47. Given two arrays, X and Y, construct the Cauchy matrix C (Cij =1/(xi - yj)) \n",
        "(**hint**: np.subtract.outer)"
      ]
    },
    {
      "cell_type": "code",
      "execution_count": 74,
      "metadata": {
        "id": "MDX88fZg6TQX",
        "colab": {
          "base_uri": "https://localhost:8080/"
        },
        "outputId": "73c3c170-2a3b-48ae-c970-07d3708684bb"
      },
      "outputs": [
        {
          "output_type": "stream",
          "name": "stdout",
          "text": [
            "29033731.03771995\n"
          ]
        }
      ],
      "source": [
        "X = np.arange(16)\n",
        "Y = X + 0.5\n",
        "C = 1.0 / np.subtract.outer(X, Y)\n",
        "print(np.linalg.det(C))"
      ]
    },
    {
      "cell_type": "markdown",
      "metadata": {
        "id": "4IvWpP_y6TQX"
      },
      "source": [
        "#### 48. Print the minimum and maximum representable value for each numpy scalar type (★★☆) \n",
        "(**hint**: np.iinfo, np.finfo, eps)"
      ]
    },
    {
      "cell_type": "code",
      "execution_count": 75,
      "metadata": {
        "id": "tBQGQOwx6TQX",
        "colab": {
          "base_uri": "https://localhost:8080/"
        },
        "outputId": "fd94a9f8-57f7-4bad-fd92-b0b3da4e6b8c"
      },
      "outputs": [
        {
          "output_type": "stream",
          "name": "stdout",
          "text": [
            "-128\n",
            "127\n",
            "-2147483648\n",
            "2147483647\n",
            "-9223372036854775808\n",
            "9223372036854775807\n",
            "-3.4028235e+38\n",
            "3.4028235e+38\n",
            "1.1920929e-07\n",
            "-1.7976931348623157e+308\n",
            "1.7976931348623157e+308\n",
            "2.220446049250313e-16\n"
          ]
        }
      ],
      "source": [
        "for dtype in [np.int8, np.int32, np.int64]:\n",
        "   print(np.iinfo(dtype).min)\n",
        "   print(np.iinfo(dtype).max)\n",
        "for dtype in [np.float32, np.float64]:\n",
        "   print(np.finfo(dtype).min)\n",
        "   print(np.finfo(dtype).max)\n",
        "   print(np.finfo(dtype).eps)"
      ]
    },
    {
      "cell_type": "markdown",
      "metadata": {
        "id": "53i0rIqP6TQX"
      },
      "source": [
        "#### 49. How to print all the values of an array? (★★☆) \n",
        "(**hint**: np.set\\_printoptions)"
      ]
    },
    {
      "cell_type": "code",
      "execution_count": 76,
      "metadata": {
        "id": "U3QmISO-6TQY",
        "colab": {
          "base_uri": "https://localhost:8080/"
        },
        "outputId": "540335eb-b404-4dc6-eb8d-9b391a60f4a6"
      },
      "outputs": [
        {
          "output_type": "stream",
          "name": "stdout",
          "text": [
            "[[0. 0. 0. 0.]\n",
            " [0. 0. 0. 0.]\n",
            " [0. 0. 0. 0.]\n",
            " [0. 0. 0. 0.]]\n"
          ]
        }
      ],
      "source": [
        "x = np.zeros((4,4))\n",
        "print(x)"
      ]
    },
    {
      "cell_type": "markdown",
      "metadata": {
        "id": "xEtMUo776TQY"
      },
      "source": [
        "#### 50. How to find the closest value (to a given scalar) in a vector? (★★☆) \n",
        "(**hint**: argmin)"
      ]
    },
    {
      "cell_type": "code",
      "execution_count": 77,
      "metadata": {
        "id": "rZ4sjMof6TQY",
        "colab": {
          "base_uri": "https://localhost:8080/"
        },
        "outputId": "705e389a-d4a7-4e41-9fe6-83877b3cf3a9"
      },
      "outputs": [
        {
          "output_type": "stream",
          "name": "stdout",
          "text": [
            "32\n"
          ]
        }
      ],
      "source": [
        "Z = np.arange(100)\n",
        "v = np.random.uniform(0,100)\n",
        "index = (np.abs(Z-v)).argmin()\n",
        "print(Z[index])"
      ]
    },
    {
      "cell_type": "markdown",
      "metadata": {
        "id": "jYXWnw9e6TQY"
      },
      "source": [
        "#### 51. Create a structured array representing a position (x,y) and a color (r,g,b) (★★☆) \n",
        "(**hint**: dtype)"
      ]
    },
    {
      "cell_type": "code",
      "execution_count": 78,
      "metadata": {
        "id": "PLB_LVEs6TQY",
        "colab": {
          "base_uri": "https://localhost:8080/"
        },
        "outputId": "93bb627e-4a22-48e9-a2b0-94c9b2e7b031"
      },
      "outputs": [
        {
          "output_type": "stream",
          "name": "stdout",
          "text": [
            "[((0., 0.), (0., 0., 0.)) ((0., 0.), (0., 0., 0.))\n",
            " ((0., 0.), (0., 0., 0.)) ((0., 0.), (0., 0., 0.))\n",
            " ((0., 0.), (0., 0., 0.)) ((0., 0.), (0., 0., 0.))\n",
            " ((0., 0.), (0., 0., 0.)) ((0., 0.), (0., 0., 0.))\n",
            " ((0., 0.), (0., 0., 0.)) ((0., 0.), (0., 0., 0.))]\n"
          ]
        },
        {
          "output_type": "stream",
          "name": "stderr",
          "text": [
            "/usr/local/lib/python3.7/dist-packages/ipykernel_launcher.py:5: FutureWarning: Passing (type, 1) or '1type' as a synonym of type is deprecated; in a future version of numpy, it will be understood as (type, (1,)) / '(1,)type'.\n",
            "  \"\"\"\n"
          ]
        }
      ],
      "source": [
        "Z = np.zeros(10, [ ('position', [ ('x', float, 1),\n",
        "                                  ('y', float, 1)]),\n",
        "                   ('color',    [ ('r', float, 1),\n",
        "                                  ('g', float, 1),\n",
        "                                  ('b', float, 1)])])\n",
        "print(Z)"
      ]
    },
    {
      "cell_type": "markdown",
      "metadata": {
        "id": "2dmc0jrQ6TQZ"
      },
      "source": [
        "#### 52. Consider a random vector with shape (100,2) representing coordinates, find point by point distances (★★☆) \n",
        "(**hint**: np.atleast\\_2d, T, np.sqrt)"
      ]
    },
    {
      "cell_type": "code",
      "execution_count": 79,
      "metadata": {
        "id": "Dt2bv1Cu6TQZ",
        "colab": {
          "base_uri": "https://localhost:8080/"
        },
        "outputId": "cd37fd44-be2d-4e8c-94f4-4ea86fd4e2a0"
      },
      "outputs": [
        {
          "output_type": "stream",
          "name": "stdout",
          "text": [
            "[[0.         0.57702764 0.49373407 0.53529526 0.44462355 0.53273834\n",
            "  0.37647564 0.56771937 0.63622639 0.918109  ]\n",
            " [0.57702764 0.         0.17037784 0.91817021 0.57956626 0.54202797\n",
            "  0.22404986 0.84803304 0.34552539 0.87511738]\n",
            " [0.49373407 0.17037784 0.         0.92197927 0.62712874 0.62078481\n",
            "  0.24126937 0.8789072  0.48309865 0.98992381]\n",
            " [0.53529526 0.91817021 0.92197927 0.         0.37290302 0.4757588\n",
            "  0.70050572 0.15326469 0.74599305 0.64976923]\n",
            " [0.44462355 0.57956626 0.62712874 0.37290302 0.         0.11876327\n",
            "  0.3863697  0.27173805 0.37335565 0.47351358]\n",
            " [0.53273834 0.54202797 0.62078481 0.4757588  0.11876327 0.\n",
            "  0.38332007 0.35334899 0.2786846  0.40043255]\n",
            " [0.37647564 0.22404986 0.24126937 0.70050572 0.3863697  0.38332007\n",
            "  0.         0.64352249 0.31193511 0.76645126]\n",
            " [0.56771937 0.84803304 0.8789072  0.15326469 0.27173805 0.35334899\n",
            "  0.64352249 0.         0.63146991 0.4979266 ]\n",
            " [0.63622639 0.34552539 0.48309865 0.74599305 0.37335565 0.2786846\n",
            "  0.31193511 0.63146991 0.         0.53488223]\n",
            " [0.918109   0.87511738 0.98992381 0.64976923 0.47351358 0.40043255\n",
            "  0.76645126 0.4979266  0.53488223 0.        ]]\n",
            "[[0.         0.52324067 0.70461028 0.82235791 0.55127961 0.20595957\n",
            "  0.89870435 0.38393072 0.8744878  0.74487515]\n",
            " [0.52324067 0.         0.79088171 0.50390693 0.05940653 0.64609175\n",
            "  0.80652478 0.41253496 0.36047429 0.43858578]\n",
            " [0.70461028 0.79088171 0.         0.56623079 0.75788893 0.56072367\n",
            "  0.29400635 0.40406689 0.93621408 0.53711357]\n",
            " [0.82235791 0.50390693 0.56623079 0.         0.4453229  0.8194934\n",
            "  0.40449602 0.4633346  0.42986964 0.07810702]\n",
            " [0.55127961 0.05940653 0.75788893 0.4453229  0.         0.65799283\n",
            "  0.75755802 0.39487525 0.32357947 0.38126976]\n",
            " [0.20595957 0.64609175 0.56072367 0.8194934  0.65799283 0.\n",
            "  0.79955171 0.35666078 0.9680375  0.7472651 ]\n",
            " [0.89870435 0.80652478 0.29400635 0.40449602 0.75755802 0.79955171\n",
            "  0.         0.52780455 0.83079713 0.41744289]\n",
            " [0.38393072 0.41253496 0.40406689 0.4633346  0.39487525 0.35666078\n",
            "  0.52780455 0.         0.65798786 0.39060554]\n",
            " [0.8744878  0.36047429 0.93621408 0.42986964 0.32357947 0.9680375\n",
            "  0.83079713 0.65798786 0.         0.41691331]\n",
            " [0.74487515 0.43858578 0.53711357 0.07810702 0.38126976 0.7472651\n",
            "  0.41744289 0.39060554 0.41691331 0.        ]]\n"
          ]
        }
      ],
      "source": [
        "Z = np.random.random((10,2))\n",
        "X,Y = np.atleast_2d(Z[:,0], Z[:,1])\n",
        "D = np.sqrt( (X-X.T)**2 + (Y-Y.T)**2)\n",
        "print(D)\n",
        "\n",
        "import scipy\n",
        "\n",
        "import scipy.spatial\n",
        "\n",
        "Z = np.random.random((10,2))\n",
        "D = scipy.spatial.distance.cdist(Z,Z)\n",
        "print(D)"
      ]
    },
    {
      "cell_type": "markdown",
      "metadata": {
        "id": "LoyNL2tF6TQZ"
      },
      "source": [
        "#### 53. How to convert a float (32 bits) array into an integer (32 bits) in place? \n",
        "(**hint**: astype(copy=False))"
      ]
    },
    {
      "cell_type": "code",
      "execution_count": 80,
      "metadata": {
        "id": "gVtkph356TQZ",
        "colab": {
          "base_uri": "https://localhost:8080/"
        },
        "outputId": "2a5eb82a-726b-4105-a661-80c60d40b999"
      },
      "outputs": [
        {
          "output_type": "stream",
          "name": "stdout",
          "text": [
            "[0 1 2 3 4 5 6 7 8 9]\n"
          ]
        }
      ],
      "source": [
        "Z = np.arange(10, dtype=np.float32)\n",
        "Z = Z.astype(np.int32, copy=False)\n",
        "print(Z)"
      ]
    },
    {
      "cell_type": "markdown",
      "metadata": {
        "id": "ifxHYZJ16TQa"
      },
      "source": [
        "#### 54. How to read the following file? (★★☆) \n",
        "(**hint**: np.genfromtxt)"
      ]
    },
    {
      "cell_type": "markdown",
      "metadata": {
        "id": "U3fuZ1uj6TQa"
      },
      "source": [
        "```\n",
        "1, 2, 3, 4, 5\n",
        "6,  ,  , 7, 8\n",
        " ,  , 9,10,11\n",
        "```"
      ]
    },
    {
      "cell_type": "code",
      "execution_count": 81,
      "metadata": {
        "id": "S7-6a16o6TQa",
        "colab": {
          "base_uri": "https://localhost:8080/"
        },
        "outputId": "04e2ec95-39ac-40b4-d205-c775371ae913"
      },
      "outputs": [
        {
          "output_type": "stream",
          "name": "stdout",
          "text": [
            "[[ 1  2  3  4  5]\n",
            " [ 6 -1 -1  7  8]\n",
            " [-1 -1  9 10 11]]\n"
          ]
        }
      ],
      "source": [
        "from io import StringIO\n",
        "\n",
        "# Fake file \n",
        "s = StringIO(\"\"\"1, 2, 3, 4, 5\\n\n",
        "                6,  ,  , 7, 8\\n\n",
        "                 ,  , 9,10,11\\n\"\"\")\n",
        "Z = np.genfromtxt(s, delimiter=\",\", dtype=np.int)\n",
        "print(Z)"
      ]
    },
    {
      "cell_type": "markdown",
      "metadata": {
        "id": "txyRW8e76TQb"
      },
      "source": [
        "#### 55. What is the equivalent of enumerate for numpy arrays? (★★☆) \n",
        "(**hint**: np.ndenumerate, np.ndindex)"
      ]
    },
    {
      "cell_type": "code",
      "execution_count": 82,
      "metadata": {
        "id": "XtbqGuFX6TQb",
        "colab": {
          "base_uri": "https://localhost:8080/"
        },
        "outputId": "0fd8bf73-3c82-427f-db7b-284f08646ad7"
      },
      "outputs": [
        {
          "output_type": "stream",
          "name": "stdout",
          "text": [
            "(0, 0) 0\n",
            "(0, 1) 1\n",
            "(0, 2) 2\n",
            "(1, 0) 3\n",
            "(1, 1) 4\n",
            "(1, 2) 5\n",
            "(2, 0) 6\n",
            "(2, 1) 7\n",
            "(2, 2) 8\n",
            "(0, 0) 0\n",
            "(0, 1) 1\n",
            "(0, 2) 2\n",
            "(1, 0) 3\n",
            "(1, 1) 4\n",
            "(1, 2) 5\n",
            "(2, 0) 6\n",
            "(2, 1) 7\n",
            "(2, 2) 8\n"
          ]
        }
      ],
      "source": [
        "Z = np.arange(9).reshape(3,3)\n",
        "for index, value in np.ndenumerate(Z):\n",
        "    print(index, value)\n",
        "for index in np.ndindex(Z.shape):\n",
        "    print(index, Z[index])"
      ]
    },
    {
      "cell_type": "markdown",
      "metadata": {
        "id": "BfOA5-_Q6TQb"
      },
      "source": [
        "#### 56. Generate a generic 2D Gaussian-like array (★★☆) \n",
        "(**hint**: np.meshgrid, np.exp)"
      ]
    },
    {
      "cell_type": "code",
      "execution_count": 83,
      "metadata": {
        "id": "BMrBpEZM6TQb",
        "colab": {
          "base_uri": "https://localhost:8080/"
        },
        "outputId": "2b630d91-82e5-47e1-c0be-4113bb963b05"
      },
      "outputs": [
        {
          "output_type": "stream",
          "name": "stdout",
          "text": [
            "[[0.36787944 0.44822088 0.51979489 0.57375342 0.60279818 0.60279818\n",
            "  0.57375342 0.51979489 0.44822088 0.36787944]\n",
            " [0.44822088 0.54610814 0.63331324 0.69905581 0.73444367 0.73444367\n",
            "  0.69905581 0.63331324 0.54610814 0.44822088]\n",
            " [0.51979489 0.63331324 0.73444367 0.81068432 0.85172308 0.85172308\n",
            "  0.81068432 0.73444367 0.63331324 0.51979489]\n",
            " [0.57375342 0.69905581 0.81068432 0.89483932 0.9401382  0.9401382\n",
            "  0.89483932 0.81068432 0.69905581 0.57375342]\n",
            " [0.60279818 0.73444367 0.85172308 0.9401382  0.98773022 0.98773022\n",
            "  0.9401382  0.85172308 0.73444367 0.60279818]\n",
            " [0.60279818 0.73444367 0.85172308 0.9401382  0.98773022 0.98773022\n",
            "  0.9401382  0.85172308 0.73444367 0.60279818]\n",
            " [0.57375342 0.69905581 0.81068432 0.89483932 0.9401382  0.9401382\n",
            "  0.89483932 0.81068432 0.69905581 0.57375342]\n",
            " [0.51979489 0.63331324 0.73444367 0.81068432 0.85172308 0.85172308\n",
            "  0.81068432 0.73444367 0.63331324 0.51979489]\n",
            " [0.44822088 0.54610814 0.63331324 0.69905581 0.73444367 0.73444367\n",
            "  0.69905581 0.63331324 0.54610814 0.44822088]\n",
            " [0.36787944 0.44822088 0.51979489 0.57375342 0.60279818 0.60279818\n",
            "  0.57375342 0.51979489 0.44822088 0.36787944]]\n"
          ]
        }
      ],
      "source": [
        "X, Y = np.meshgrid(np.linspace(-1,1,10), np.linspace(-1,1,10))\n",
        "D = np.sqrt(X*X+Y*Y)\n",
        "sigma, mu = 1.0, 0.0\n",
        "G = np.exp(-( (D-mu)**2 / ( 2.0 * sigma**2 ) ) )\n",
        "print(G)"
      ]
    },
    {
      "cell_type": "markdown",
      "metadata": {
        "id": "LpT84nab6TQb"
      },
      "source": [
        "#### 57. How to randomly place p elements in a 2D array? (★★☆) \n",
        "(**hint**: np.put, np.random.choice)"
      ]
    },
    {
      "cell_type": "code",
      "execution_count": 84,
      "metadata": {
        "id": "TMt19S716TQc",
        "colab": {
          "base_uri": "https://localhost:8080/"
        },
        "outputId": "a7cee2b4-c4fd-411f-f63e-8a9fbd80d38f"
      },
      "outputs": [
        {
          "output_type": "stream",
          "name": "stdout",
          "text": [
            "[[0. 0. 0. 0. 0. 0. 0. 0. 0. 0.]\n",
            " [0. 0. 0. 0. 0. 0. 0. 0. 0. 0.]\n",
            " [0. 0. 0. 0. 0. 0. 0. 0. 0. 0.]\n",
            " [0. 0. 0. 0. 0. 1. 0. 0. 0. 1.]\n",
            " [0. 0. 0. 0. 0. 0. 0. 0. 0. 0.]\n",
            " [0. 0. 0. 0. 0. 0. 0. 0. 0. 0.]\n",
            " [0. 0. 0. 0. 0. 0. 0. 0. 0. 0.]\n",
            " [0. 0. 1. 0. 0. 0. 0. 0. 0. 0.]\n",
            " [0. 0. 0. 0. 0. 0. 0. 0. 0. 0.]\n",
            " [0. 0. 0. 0. 0. 0. 0. 0. 0. 0.]]\n"
          ]
        }
      ],
      "source": [
        "n = 10\n",
        "p = 3\n",
        "Z = np.zeros((n,n))\n",
        "np.put(Z, np.random.choice(range(n*n), p, replace=False),1)\n",
        "print(Z)"
      ]
    },
    {
      "cell_type": "markdown",
      "metadata": {
        "id": "_3-WmXId6TQc"
      },
      "source": [
        "#### 58. Subtract the mean of each row of a matrix (★★☆) \n",
        "(**hint**: mean(axis=,keepdims=))"
      ]
    },
    {
      "cell_type": "code",
      "execution_count": 85,
      "metadata": {
        "id": "M1-5WN7K6TQc",
        "colab": {
          "base_uri": "https://localhost:8080/"
        },
        "outputId": "7918f3f5-c7d6-4453-a857-b5a35cd5dc42"
      },
      "outputs": [
        {
          "output_type": "stream",
          "name": "stdout",
          "text": [
            "[[-0.23335635  0.44537338 -0.26880667 -0.21138746 -0.25819416  0.20395312\n",
            "  -0.31699958  0.24454615  0.2248175   0.17005406]\n",
            " [ 0.03951538 -0.00908502 -0.34617004 -0.43165028 -0.3951772   0.3879964\n",
            "   0.42609851  0.45761531 -0.00313248 -0.12601056]\n",
            " [ 0.18018835 -0.08185624  0.37400307  0.06848049 -0.10659326  0.25968237\n",
            "   0.38733631 -0.49579386 -0.1292899  -0.45615732]\n",
            " [ 0.25876943 -0.08361212  0.12974697 -0.36197523  0.54179715 -0.22711644\n",
            "  -0.32851892 -0.25762164  0.51619506 -0.18766424]\n",
            " [-0.3521642  -0.09503727  0.08594948  0.24589839  0.09515363  0.10420827\n",
            "   0.33455134 -0.15535722  0.14055093 -0.40375334]]\n"
          ]
        }
      ],
      "source": [
        "X = np.random.rand(5, 10)\n",
        "\n",
        "# Recent versions of numpy\n",
        "Y = X - X.mean(axis=1, keepdims=True)\n",
        "\n",
        "# Older versions of numpy\n",
        "Y = X - X.mean(axis=1).reshape(-1, 1)\n",
        "\n",
        "print(Y)"
      ]
    },
    {
      "cell_type": "markdown",
      "metadata": {
        "id": "aDR0c9xM6TQc"
      },
      "source": [
        "#### 59. How to sort an array by the nth column? (★★☆) \n",
        "(**hint**: argsort)"
      ]
    },
    {
      "cell_type": "code",
      "execution_count": 86,
      "metadata": {
        "id": "4mmPForA6TQd",
        "colab": {
          "base_uri": "https://localhost:8080/"
        },
        "outputId": "0f34858b-02e7-492c-ea72-5caaca8adfb9"
      },
      "outputs": [
        {
          "output_type": "stream",
          "name": "stdout",
          "text": [
            "[[6 4 9]\n",
            " [0 1 2]\n",
            " [4 8 7]]\n",
            "[[0 1 2]\n",
            " [6 4 9]\n",
            " [4 8 7]]\n"
          ]
        }
      ],
      "source": [
        "Z = np.random.randint(0,10,(3,3))\n",
        "print(Z)\n",
        "print(Z[Z[:,1].argsort()])"
      ]
    },
    {
      "cell_type": "markdown",
      "metadata": {
        "id": "napiYlVf6TQd"
      },
      "source": [
        "#### 60. How to tell if a given 2D array has null columns? (★★☆) \n",
        "(**hint**: any, ~)"
      ]
    },
    {
      "cell_type": "code",
      "execution_count": 87,
      "metadata": {
        "id": "2KCaJvYf6TQd",
        "colab": {
          "base_uri": "https://localhost:8080/"
        },
        "outputId": "c0ee1885-1b19-4ac7-86da-fd1427af816e"
      },
      "outputs": [
        {
          "output_type": "stream",
          "name": "stdout",
          "text": [
            "True\n"
          ]
        }
      ],
      "source": [
        "Z = np.random.randint(0,3,(3,10))\n",
        "print((~Z.any(axis=0)).any())"
      ]
    },
    {
      "cell_type": "markdown",
      "metadata": {
        "id": "b_C50p676TQd"
      },
      "source": [
        "#### 61. Find the nearest value from a given value in an array (★★☆) \n",
        "(**hint**: np.abs, argmin, flat)"
      ]
    },
    {
      "cell_type": "code",
      "execution_count": 88,
      "metadata": {
        "id": "zzom1vkI6TQd",
        "colab": {
          "base_uri": "https://localhost:8080/"
        },
        "outputId": "85cbde0f-2b2b-4b3f-a785-977a583954a0"
      },
      "outputs": [
        {
          "output_type": "stream",
          "name": "stdout",
          "text": [
            "0.5010025346739874\n"
          ]
        }
      ],
      "source": [
        "Z = np.random.uniform(0,1,10)\n",
        "z = 0.5\n",
        "m = Z.flat[np.abs(Z - z).argmin()]\n",
        "print(m)"
      ]
    },
    {
      "cell_type": "markdown",
      "metadata": {
        "id": "oNLYOB2E6TQe"
      },
      "source": [
        "#### 62. Considering two arrays with shape (1,3) and (3,1), how to compute their sum using an iterator? (★★☆) \n",
        "(**hint**: np.nditer)"
      ]
    },
    {
      "cell_type": "code",
      "execution_count": 89,
      "metadata": {
        "id": "xVkLGbi86TQe",
        "colab": {
          "base_uri": "https://localhost:8080/"
        },
        "outputId": "7f19709c-a834-4d8f-f060-c29be380868a"
      },
      "outputs": [
        {
          "output_type": "stream",
          "name": "stdout",
          "text": [
            "[[0 1 2]\n",
            " [1 2 3]\n",
            " [2 3 4]]\n"
          ]
        }
      ],
      "source": [
        "A = np.arange(3).reshape(3,1)\n",
        "B = np.arange(3).reshape(1,3)\n",
        "it = np.nditer([A,B,None])\n",
        "for x,y,z in it: z[...] = x + y\n",
        "print(it.operands[2])"
      ]
    },
    {
      "cell_type": "markdown",
      "metadata": {
        "id": "HljkO0FI6TQe"
      },
      "source": [
        "#### 63. Create an array class that has a name attribute (★★☆) \n",
        "(**hint**: class method)"
      ]
    },
    {
      "cell_type": "code",
      "execution_count": 90,
      "metadata": {
        "id": "7whjFxZ86TQe",
        "colab": {
          "base_uri": "https://localhost:8080/"
        },
        "outputId": "a51ecf33-946f-4b12-804f-ed0a4a8dce60"
      },
      "outputs": [
        {
          "output_type": "stream",
          "name": "stdout",
          "text": [
            "range_10\n"
          ]
        }
      ],
      "source": [
        "class NamedArray(np.ndarray):\n",
        "    def __new__(cls, array, name=\"no name\"):\n",
        "        obj = np.asarray(array).view(cls)\n",
        "        obj.name = name\n",
        "        return obj\n",
        "    def __array_finalize__(self, obj):\n",
        "        if obj is None: return\n",
        "        self.info = getattr(obj, 'name', \"no name\")\n",
        "\n",
        "Z = NamedArray(np.arange(10), \"range_10\")\n",
        "print (Z.name)"
      ]
    },
    {
      "cell_type": "markdown",
      "metadata": {
        "id": "tp_ar6VZ6TQf"
      },
      "source": [
        "#### 64. Consider a given vector, how to add 1 to each element indexed by a second vector (be careful with repeated indices)? (★★★) \n",
        "(**hint**: np.bincount | np.add.at)"
      ]
    },
    {
      "cell_type": "code",
      "execution_count": 93,
      "metadata": {
        "id": "km9WPmgN6TQf",
        "colab": {
          "base_uri": "https://localhost:8080/"
        },
        "outputId": "ae8e9710-ee6c-4ee3-d8b7-f6191e2c2179"
      },
      "outputs": [
        {
          "output_type": "stream",
          "name": "stdout",
          "text": [
            "[7. 3. 6. 4. 1. 1. 1. 3. 1. 3.]\n",
            "[13.  5. 11.  7.  1.  1.  1.  5.  1.  5.]\n"
          ]
        }
      ],
      "source": [
        "Z = np.ones(10)\n",
        "I = np.random.randint(0,len(Z),20)\n",
        "Z += np.bincount(I, minlength=len(Z))\n",
        "print(Z)\n",
        "\n",
        "\n",
        "np.add.at(Z, I, 1)\n",
        "print(Z)"
      ]
    },
    {
      "cell_type": "markdown",
      "metadata": {
        "id": "22KucaIe6TQf"
      },
      "source": [
        "#### 65. How to accumulate elements of a vector (X) to an array (F) based on an index list (I)? (★★★) \n",
        "(**hint**: np.bincount)"
      ]
    },
    {
      "cell_type": "code",
      "execution_count": 92,
      "metadata": {
        "id": "9Jm3tkZx6TQf",
        "colab": {
          "base_uri": "https://localhost:8080/"
        },
        "outputId": "30bebff1-a6ed-4ba8-c0aa-c89bf472f66f"
      },
      "outputs": [
        {
          "output_type": "stream",
          "name": "stdout",
          "text": [
            "[0. 7. 0. 6. 5. 0. 0. 0. 0. 3.]\n"
          ]
        }
      ],
      "source": [
        "X = [1,2,3,4,5,6]\n",
        "I = [1,3,9,3,4,1]\n",
        "F = np.bincount(I,X)\n",
        "print(F)"
      ]
    },
    {
      "cell_type": "markdown",
      "metadata": {
        "id": "uw4kWzrD6TQf"
      },
      "source": [
        "#### 66. Considering a (w,h,3) image of (dtype=ubyte), compute the number of unique colors (★★★) \n",
        "(**hint**: np.unique)"
      ]
    },
    {
      "cell_type": "code",
      "execution_count": 94,
      "metadata": {
        "id": "r0MhMrcL6TQg",
        "colab": {
          "base_uri": "https://localhost:8080/"
        },
        "outputId": "df4e0e4d-0cbd-4ab9-c4ec-7990e255eba7"
      },
      "outputs": [
        {
          "output_type": "stream",
          "name": "stdout",
          "text": [
            "8\n"
          ]
        }
      ],
      "source": [
        "w,h = 16,16\n",
        "I = np.random.randint(0,2,(h,w,3)).astype(np.ubyte)\n",
        "F = I[...,0]*(256*256) + I[...,1]*256 +I[...,2]\n",
        "n = len(np.unique(F))\n",
        "print(n)"
      ]
    },
    {
      "cell_type": "markdown",
      "metadata": {
        "id": "WiQPWXK-6TQg"
      },
      "source": [
        "#### 67. Considering a four dimensions array, how to get sum over the last two axis at once? (★★★) \n",
        "(**hint**: sum(axis=(-2,-1)))"
      ]
    },
    {
      "cell_type": "code",
      "execution_count": 95,
      "metadata": {
        "id": "QeP_Cveo6TQg",
        "colab": {
          "base_uri": "https://localhost:8080/"
        },
        "outputId": "5e60e0ea-ac96-4a27-97b5-7149d10e8ac5"
      },
      "outputs": [
        {
          "output_type": "stream",
          "name": "stdout",
          "text": [
            "[[55 52 67 43]\n",
            " [57 36 68 55]\n",
            " [54 42 71 45]]\n",
            "[[55 52 67 43]\n",
            " [57 36 68 55]\n",
            " [54 42 71 45]]\n"
          ]
        }
      ],
      "source": [
        "A = np.random.randint(0,10,(3,4,3,4))\n",
        "sum = A.sum(axis=(-2,-1))\n",
        "print(sum)\n",
        "\n",
        "sum = A.reshape(A.shape[:-2] + (-1,)).sum(axis=-1)\n",
        "print(sum)"
      ]
    },
    {
      "cell_type": "markdown",
      "metadata": {
        "id": "uZGzT1B86TQh"
      },
      "source": [
        "#### 68. Considering a one-dimensional vector D, how to compute means of subsets of D using a vector S of same size describing subset  indices? (★★★) \n",
        "(**hint**: np.bincount)"
      ]
    },
    {
      "cell_type": "code",
      "execution_count": 96,
      "metadata": {
        "id": "le2G-mrV6TQh",
        "colab": {
          "base_uri": "https://localhost:8080/"
        },
        "outputId": "1be505f2-1f4b-41f1-90d2-cb6525029b72"
      },
      "outputs": [
        {
          "output_type": "stream",
          "name": "stdout",
          "text": [
            "[0.36835846 0.48331488 0.49856876 0.55739882 0.54282115 0.58209519\n",
            " 0.74151284 0.47833568 0.33517124 0.42360512]\n",
            "0    0.368358\n",
            "1    0.483315\n",
            "2    0.498569\n",
            "3    0.557399\n",
            "4    0.542821\n",
            "5    0.582095\n",
            "6    0.741513\n",
            "7    0.478336\n",
            "8    0.335171\n",
            "9    0.423605\n",
            "dtype: float64\n"
          ]
        }
      ],
      "source": [
        "D = np.random.uniform(0,1,100)\n",
        "S = np.random.randint(0,10,100)\n",
        "D_sums = np.bincount(S, weights=D)\n",
        "D_counts = np.bincount(S)\n",
        "D_means = D_sums / D_counts\n",
        "print(D_means)\n",
        "\n",
        "import pandas as pd\n",
        "print(pd.Series(D).groupby(S).mean())"
      ]
    },
    {
      "cell_type": "markdown",
      "metadata": {
        "id": "iRbDF5-O6TQh"
      },
      "source": [
        "#### 69. How to get the diagonal of a dot product? (★★★) \n",
        "(**hint**: np.diag)"
      ]
    },
    {
      "cell_type": "code",
      "execution_count": 97,
      "metadata": {
        "id": "tyNfW2Vt6TQi",
        "colab": {
          "base_uri": "https://localhost:8080/"
        },
        "outputId": "d25cde07-b7ce-410f-8e4a-0499dc7f72c6"
      },
      "outputs": [
        {
          "output_type": "execute_result",
          "data": {
            "text/plain": [
              "array([1.41305549, 2.56737931, 2.08210362, 1.2590727 , 0.94359234])"
            ]
          },
          "metadata": {},
          "execution_count": 97
        }
      ],
      "source": [
        "A = np.random.uniform(0,1,(5,5))\n",
        "B = np.random.uniform(0,1,(5,5))\n",
        "\n",
        "# Slow version  \n",
        "np.diag(np.dot(A, B))\n",
        "\n",
        "# Fast version\n",
        "np.sum(A * B.T, axis=1)\n",
        "\n",
        "# Faster version\n",
        "np.einsum(\"ij,ji->i\", A, B)"
      ]
    },
    {
      "cell_type": "markdown",
      "metadata": {
        "id": "gYQBD6yX6TQi"
      },
      "source": [
        "#### 70. Consider the vector \\[1, 2, 3, 4, 5\\], how to build a new vector with 3 consecutive zeros interleaved between each value? (★★★) \n",
        "(**hint**: array\\[::4\\])"
      ]
    },
    {
      "cell_type": "code",
      "execution_count": 98,
      "metadata": {
        "id": "N7lK3F2P6TQi",
        "colab": {
          "base_uri": "https://localhost:8080/"
        },
        "outputId": "1a56fe54-c44c-43eb-b39e-ca4281e225a4"
      },
      "outputs": [
        {
          "output_type": "stream",
          "name": "stdout",
          "text": [
            "[1. 0. 0. 0. 2. 0. 0. 0. 3. 0. 0. 0. 4. 0. 0. 0. 5.]\n"
          ]
        }
      ],
      "source": [
        "Z = np.array([1,2,3,4,5])\n",
        "nz = 3\n",
        "Z0 = np.zeros(len(Z) + (len(Z)-1)*(nz))\n",
        "Z0[::nz+1] = Z\n",
        "print(Z0)"
      ]
    },
    {
      "cell_type": "markdown",
      "metadata": {
        "id": "nK2hs0Et6TQi"
      },
      "source": [
        "#### 71. Consider an array of dimension (5,5,3), how to mulitply it by an array with dimensions (5,5)? (★★★) \n",
        "(**hint**: array\\[:, :, None\\])"
      ]
    },
    {
      "cell_type": "code",
      "execution_count": 99,
      "metadata": {
        "collapsed": true,
        "id": "ho_TxooK6TQj",
        "colab": {
          "base_uri": "https://localhost:8080/"
        },
        "outputId": "0ea5b526-27c2-4d92-9209-53fa028c285b"
      },
      "outputs": [
        {
          "output_type": "stream",
          "name": "stdout",
          "text": [
            "[[[2. 2. 2.]\n",
            "  [2. 2. 2.]\n",
            "  [2. 2. 2.]\n",
            "  [2. 2. 2.]\n",
            "  [2. 2. 2.]]\n",
            "\n",
            " [[2. 2. 2.]\n",
            "  [2. 2. 2.]\n",
            "  [2. 2. 2.]\n",
            "  [2. 2. 2.]\n",
            "  [2. 2. 2.]]\n",
            "\n",
            " [[2. 2. 2.]\n",
            "  [2. 2. 2.]\n",
            "  [2. 2. 2.]\n",
            "  [2. 2. 2.]\n",
            "  [2. 2. 2.]]\n",
            "\n",
            " [[2. 2. 2.]\n",
            "  [2. 2. 2.]\n",
            "  [2. 2. 2.]\n",
            "  [2. 2. 2.]\n",
            "  [2. 2. 2.]]\n",
            "\n",
            " [[2. 2. 2.]\n",
            "  [2. 2. 2.]\n",
            "  [2. 2. 2.]\n",
            "  [2. 2. 2.]\n",
            "  [2. 2. 2.]]]\n"
          ]
        }
      ],
      "source": [
        "A = np.ones((5,5,3))\n",
        "B = 2*np.ones((5,5))\n",
        "print(A * B[:,:,None])"
      ]
    },
    {
      "cell_type": "markdown",
      "metadata": {
        "id": "IqdMC8tp6TQj"
      },
      "source": [
        "#### 72. How to swap two rows of an array? (★★★) \n",
        "(**hint**: array\\[\\[\\]\\] = array\\[\\[\\]\\])"
      ]
    },
    {
      "cell_type": "code",
      "execution_count": 100,
      "metadata": {
        "id": "YvvrdyTQ6TQj",
        "colab": {
          "base_uri": "https://localhost:8080/"
        },
        "outputId": "9987ec43-d9d3-4d19-f499-69fed6c02e3f"
      },
      "outputs": [
        {
          "output_type": "stream",
          "name": "stdout",
          "text": [
            "[[ 5  6  7  8  9]\n",
            " [ 0  1  2  3  4]\n",
            " [10 11 12 13 14]\n",
            " [15 16 17 18 19]\n",
            " [20 21 22 23 24]]\n"
          ]
        }
      ],
      "source": [
        "A = np.arange(25).reshape(5,5)\n",
        "A[[0,1]] = A[[1,0]]\n",
        "print(A)"
      ]
    },
    {
      "cell_type": "markdown",
      "metadata": {
        "id": "gRv9GZ5b6TQj"
      },
      "source": [
        "#### 73. Consider a set of 10 triplets describing 10 triangles (with shared vertices), find the set of unique line segments composing all the  triangles (★★★) \n",
        "(**hint**: repeat, np.roll, np.sort, view, np.unique)"
      ]
    },
    {
      "cell_type": "code",
      "execution_count": 101,
      "metadata": {
        "id": "YdswJyWq6TQk",
        "colab": {
          "base_uri": "https://localhost:8080/"
        },
        "outputId": "c6296655-e9d6-4720-9eb8-b3c20e7dafbc"
      },
      "outputs": [
        {
          "output_type": "stream",
          "name": "stdout",
          "text": [
            "[( 0, 22) ( 0, 82) ( 4, 26) ( 4, 67) ( 6, 35) ( 6, 47) ( 7,  8) ( 7, 91)\n",
            " ( 8, 91) (10, 18) (10, 63) (18, 63) (22, 82) (24, 49) (24, 98) (25, 41)\n",
            " (25, 49) (25, 56) (25, 74) (26, 67) (35, 47) (38, 51) (38, 68) (41, 49)\n",
            " (45, 62) (45, 87) (49, 98) (51, 68) (56, 74) (62, 87)]\n"
          ]
        }
      ],
      "source": [
        "faces = np.random.randint(0,100,(10,3))\n",
        "F = np.roll(faces.repeat(2,axis=1),-1,axis=1)\n",
        "F = F.reshape(len(F)*3,2)\n",
        "F = np.sort(F,axis=1)\n",
        "G = F.view( dtype=[('p0',F.dtype),('p1',F.dtype)] )\n",
        "G = np.unique(G)\n",
        "print(G)"
      ]
    },
    {
      "cell_type": "markdown",
      "metadata": {
        "id": "InQ8nm1w6TQk"
      },
      "source": [
        "#### 74. Given an array C that is a bincount, how to produce an array A such that np.bincount(A) == C? (★★★) \n",
        "(**hint**: np.repeat)"
      ]
    },
    {
      "cell_type": "code",
      "execution_count": 102,
      "metadata": {
        "id": "qezuWhaK6TQl",
        "colab": {
          "base_uri": "https://localhost:8080/"
        },
        "outputId": "145054ea-31ef-48d3-96ba-8aa6e4b78b09"
      },
      "outputs": [
        {
          "output_type": "stream",
          "name": "stdout",
          "text": [
            "[1 1 2 3 4 4 6]\n"
          ]
        }
      ],
      "source": [
        "C = np.bincount([1,1,2,3,4,4,6])\n",
        "A = np.repeat(np.arange(len(C)), C)\n",
        "print(A)"
      ]
    },
    {
      "cell_type": "markdown",
      "metadata": {
        "id": "-XDinyLl6TQl"
      },
      "source": [
        "#### 75. How to compute averages using a sliding window over an array? (★★★) \n",
        "(**hint**: np.cumsum)"
      ]
    },
    {
      "cell_type": "code",
      "execution_count": 103,
      "metadata": {
        "id": "QtdgGJSF6TQl",
        "colab": {
          "base_uri": "https://localhost:8080/"
        },
        "outputId": "f3b5fcec-ac0e-46dd-e3db-5c975d7f8e1c"
      },
      "outputs": [
        {
          "output_type": "stream",
          "name": "stdout",
          "text": [
            "[ 1.  2.  3.  4.  5.  6.  7.  8.  9. 10. 11. 12. 13. 14. 15. 16. 17. 18.]\n"
          ]
        }
      ],
      "source": [
        "def moving_average(a, n=3) :\n",
        "    ret = np.cumsum(a, dtype=float)\n",
        "    ret[n:] = ret[n:] - ret[:-n]\n",
        "    return ret[n - 1:] / n\n",
        "Z = np.arange(20)\n",
        "print(moving_average(Z, n=3))"
      ]
    },
    {
      "cell_type": "markdown",
      "metadata": {
        "id": "bQCpxSFj6TQm"
      },
      "source": [
        "#### 76. Consider a one-dimensional array Z, build a two-dimensional array whose first row is (Z\\[0\\],Z\\[1\\],Z\\[2\\]) and each subsequent row is  shifted by 1 (last row should be (Z\\[-3\\],Z\\[-2\\],Z\\[-1\\]) (★★★) \n",
        "(**hint**: from numpy.lib import stride_tricks)"
      ]
    },
    {
      "cell_type": "code",
      "execution_count": 104,
      "metadata": {
        "id": "WT9xUAjw6TQm",
        "colab": {
          "base_uri": "https://localhost:8080/"
        },
        "outputId": "8aeb3883-1de2-471f-dacc-88391cda8451"
      },
      "outputs": [
        {
          "output_type": "stream",
          "name": "stdout",
          "text": [
            "[[0 1 2]\n",
            " [1 2 3]\n",
            " [2 3 4]\n",
            " [3 4 5]\n",
            " [4 5 6]\n",
            " [5 6 7]\n",
            " [6 7 8]\n",
            " [7 8 9]]\n"
          ]
        }
      ],
      "source": [
        "from numpy.lib import stride_tricks\n",
        "\n",
        "def rolling(a, window):\n",
        "    shape = (a.size - window + 1, window)\n",
        "    strides = (a.itemsize, a.itemsize)\n",
        "    return stride_tricks.as_strided(a, shape=shape, strides=strides)\n",
        "Z = rolling(np.arange(10), 3)\n",
        "print(Z)"
      ]
    },
    {
      "cell_type": "markdown",
      "metadata": {
        "id": "6b-GC8mM6TQm"
      },
      "source": [
        "#### 77. How to negate a boolean, or to change the sign of a float inplace? (★★★) \n",
        "(**hint**: np.logical_not, np.negative)"
      ]
    },
    {
      "cell_type": "code",
      "execution_count": 105,
      "metadata": {
        "id": "mG2dCByd6TQn",
        "colab": {
          "base_uri": "https://localhost:8080/"
        },
        "outputId": "599eb4d5-fc80-4552-fdf1-5fc1355f2b5e"
      },
      "outputs": [
        {
          "output_type": "execute_result",
          "data": {
            "text/plain": [
              "array([-0.78636781, -0.83968585,  0.52430178, -0.9660974 , -0.95756372,\n",
              "       -0.36806413, -0.02346036,  0.25618933,  0.71373244,  0.12855589,\n",
              "        0.7193017 ,  0.02474587,  0.04222605,  0.25697779, -0.3139006 ,\n",
              "       -0.20106861,  0.67599727,  0.11099993,  0.21787941,  0.83831078,\n",
              "       -0.33856168, -0.55634751, -0.91840308, -0.70857066,  0.90324613,\n",
              "        0.98930674,  0.3869672 , -0.44143338, -0.16698678,  0.25858423,\n",
              "       -0.82384951, -0.55362242, -0.66535887, -0.94553089,  0.05289866,\n",
              "        0.80928504,  0.33948858,  0.04146533,  0.09155405,  0.60684132,\n",
              "       -0.82397386,  0.5829447 , -0.46153637,  0.70813833, -0.78095844,\n",
              "        0.63071596,  0.28041267, -0.07604749, -0.20806965, -0.96312491,\n",
              "        0.79775641, -0.78806327, -0.2130618 , -0.86182269,  0.2094281 ,\n",
              "        0.07856367,  0.12715345, -0.61969085,  0.7483863 , -0.48084148,\n",
              "       -0.42518426,  0.10999591, -0.20234734,  0.82947371, -0.54835203,\n",
              "       -0.94433827,  0.69781654,  0.44724328,  0.50926483, -0.38020343,\n",
              "        0.71271152, -0.59755006,  0.19515145, -0.65909441, -0.75974602,\n",
              "        0.67031261, -0.29850667, -0.22025023,  0.5189844 , -0.18160176,\n",
              "       -0.88052194,  0.80786399, -0.25727172,  0.93947403, -0.17364807,\n",
              "        0.82480383, -0.15623104, -0.35336559, -0.08758592, -0.66534631,\n",
              "       -0.48889609,  0.44130871, -0.82883938, -0.7519783 ,  0.5318524 ,\n",
              "        0.96227542,  0.25172654,  0.73922732, -0.69041852,  0.7191589 ])"
            ]
          },
          "metadata": {},
          "execution_count": 105
        }
      ],
      "source": [
        "Z = np.random.randint(0,2,100)\n",
        "np.logical_not(Z, out=Z)\n",
        "\n",
        "Z = np.random.uniform(-1.0,1.0,100)\n",
        "np.negative(Z, out=Z)"
      ]
    },
    {
      "cell_type": "markdown",
      "metadata": {
        "id": "kWrPxpoR6TQn"
      },
      "source": [
        "#### 78. Consider 2 sets of points P0,P1 describing lines (2d) and a point p, how to compute distance from p to each line i  (P0\\[i\\],P1\\[i\\])? (★★★)"
      ]
    },
    {
      "cell_type": "code",
      "execution_count": 106,
      "metadata": {
        "id": "zoNhRrZt6TQn",
        "colab": {
          "base_uri": "https://localhost:8080/"
        },
        "outputId": "d9b38dd5-e688-44fd-a208-11317aed29c9"
      },
      "outputs": [
        {
          "output_type": "stream",
          "name": "stdout",
          "text": [
            "[ 4.02700742  6.23567935 13.57659817 10.67468145 12.11455445 10.01372893\n",
            "  9.14435344  5.44781406 13.01616587  8.40326677]\n"
          ]
        }
      ],
      "source": [
        "def distance(P0, P1, p):\n",
        "    T = P1 - P0\n",
        "    L = (T**2).sum(axis=1)\n",
        "    U = -((P0[:,0]-p[...,0])*T[:,0] + (P0[:,1]-p[...,1])*T[:,1]) / L\n",
        "    U = U.reshape(len(U),1)\n",
        "    D = P0 + U*T - p\n",
        "    return np.sqrt((D**2).sum(axis=1))\n",
        "\n",
        "P0 = np.random.uniform(-10,10,(10,2))\n",
        "P1 = np.random.uniform(-10,10,(10,2))\n",
        "p  = np.random.uniform(-10,10,( 1,2))\n",
        "print(distance(P0, P1, p))"
      ]
    },
    {
      "cell_type": "markdown",
      "metadata": {
        "id": "RcpdiYpn6TQo"
      },
      "source": [
        "#### 79. Consider 2 sets of points P0,P1 describing lines (2d) and a set of points P, how to compute distance from each point j (P\\[j\\]) to each line i (P0\\[i\\],P1\\[i\\])? (★★★)"
      ]
    },
    {
      "cell_type": "code",
      "execution_count": 107,
      "metadata": {
        "id": "vcOBWB3_6TQo",
        "colab": {
          "base_uri": "https://localhost:8080/"
        },
        "outputId": "48c17aa7-5eab-4e2d-c495-be2f7eca513c"
      },
      "outputs": [
        {
          "output_type": "stream",
          "name": "stdout",
          "text": [
            "[[ 6.4019824   1.90388342  6.86004948  4.88019988  4.93547939  6.4894048\n",
            "   7.21257995  1.52015072 11.06003332  2.16917018]\n",
            " [ 2.02854286  0.47255708  4.36712798  4.99677074  4.13706258  3.21401178\n",
            "   0.06880471  1.16962277  3.61744385  6.07698515]\n",
            " [10.00746837 11.74787003  4.10417124  2.06232286  1.47224588  4.40098177\n",
            "  12.74169209 11.1999205   2.24155002  6.13223373]\n",
            " [ 0.24900924  7.51401372  5.30718267  8.88278371 10.94499751  6.51626966\n",
            "   3.51590611  6.63022694  4.98756653  3.96632319]\n",
            " [ 3.44113613  0.92778377  1.49837607  8.08644308  7.75324433  0.16101522\n",
            "   0.79680755  0.11745813  0.07476914  7.36976908]\n",
            " [ 6.47265278  8.01763478  1.42375521  0.10184622  2.09024291  1.96787788\n",
            "   8.94077459  7.43066392  2.83767771  2.5395657 ]\n",
            " [11.43823323  9.68751746  0.32359804  5.70387292  2.93864117  0.41482651\n",
            "  13.30342147  9.27597313  6.85407473  7.40990853]\n",
            " [ 6.61291513  3.72278539  5.67984042  8.80579649  6.78873609  4.15907623\n",
            "   4.56395577  4.52409128  2.23220094 10.65789922]\n",
            " [ 5.07876034  8.84251494 13.70003791  2.57935338  1.33278931 12.48569964\n",
            "   4.7578904   9.39923509 11.13493642  9.43178782]\n",
            " [11.65499574  5.60717307  5.38448272  9.26152617  7.99836943  5.4357285\n",
            "  12.35761599  5.34359339 12.67585605  7.41718313]]\n"
          ]
        }
      ],
      "source": [
        "P0 = np.random.uniform(-10, 10, (10,2))\n",
        "P1 = np.random.uniform(-10,10,(10,2))\n",
        "p = np.random.uniform(-10, 10, (10,2))\n",
        "print(np.array([distance(P0,P1,p_i) for p_i in p]))"
      ]
    },
    {
      "cell_type": "markdown",
      "metadata": {
        "id": "wN7TWmoE6TQo"
      },
      "source": [
        "#### 80. Consider an arbitrary array, write a function that extract a subpart with a fixed shape and centered on a given element (pad with a `fill` value when necessary) (★★★) \n",
        "(**hint**: minimum, maximum)"
      ]
    },
    {
      "cell_type": "code",
      "execution_count": 108,
      "metadata": {
        "id": "UZjih_l-6TQo",
        "colab": {
          "base_uri": "https://localhost:8080/"
        },
        "outputId": "deecb3e6-4859-4f95-c256-acf3618bda1e"
      },
      "outputs": [
        {
          "output_type": "stream",
          "name": "stdout",
          "text": [
            "[[3 7 1 9 4 3 1 5 2 7]\n",
            " [1 5 1 8 9 7 7 0 9 9]\n",
            " [0 7 3 6 7 0 2 2 5 8]\n",
            " [9 2 6 2 8 3 4 5 6 7]\n",
            " [7 7 6 7 2 4 1 8 2 8]\n",
            " [3 9 9 3 3 1 3 6 7 3]\n",
            " [5 1 8 3 4 7 2 8 1 3]\n",
            " [2 0 6 6 7 7 6 0 7 3]\n",
            " [6 6 3 7 3 0 8 5 5 1]\n",
            " [0 0 1 4 7 5 0 3 8 2]]\n",
            "[[0 0 0 0 0]\n",
            " [0 3 7 1 9]\n",
            " [0 1 5 1 8]\n",
            " [0 0 7 3 6]\n",
            " [0 9 2 6 2]]\n"
          ]
        },
        {
          "output_type": "stream",
          "name": "stderr",
          "text": [
            "/usr/local/lib/python3.7/dist-packages/ipykernel_launcher.py:23: FutureWarning: Using a non-tuple sequence for multidimensional indexing is deprecated; use `arr[tuple(seq)]` instead of `arr[seq]`. In the future this will be interpreted as an array index, `arr[np.array(seq)]`, which will result either in an error or a different result.\n"
          ]
        }
      ],
      "source": [
        "Z = np.random.randint(0,10,(10,10))\n",
        "shape = (5,5)\n",
        "fill  = 0\n",
        "position = (1,1)\n",
        "\n",
        "R = np.ones(shape, dtype=Z.dtype)*fill\n",
        "P  = np.array(list(position)).astype(int)\n",
        "Rs = np.array(list(R.shape)).astype(int)\n",
        "Zs = np.array(list(Z.shape)).astype(int)\n",
        "\n",
        "R_start = np.zeros((len(shape),)).astype(int)\n",
        "R_stop  = np.array(list(shape)).astype(int)\n",
        "Z_start = (P-Rs//2)\n",
        "Z_stop  = (P+Rs//2)+Rs%2\n",
        "\n",
        "R_start = (R_start - np.minimum(Z_start,0)).tolist()\n",
        "Z_start = (np.maximum(Z_start,0)).tolist()\n",
        "R_stop = np.maximum(R_start, (R_stop - np.maximum(Z_stop-Zs,0))).tolist()\n",
        "Z_stop = (np.minimum(Z_stop,Zs)).tolist()\n",
        "\n",
        "r = [slice(start,stop) for start,stop in zip(R_start,R_stop)]\n",
        "z = [slice(start,stop) for start,stop in zip(Z_start,Z_stop)]\n",
        "R[r] = Z[z]\n",
        "print(Z)\n",
        "print(R)"
      ]
    },
    {
      "cell_type": "markdown",
      "metadata": {
        "id": "UhKMWlAY6TQp"
      },
      "source": [
        "#### 81. Consider an array Z = \\[1,2,3,4,5,6,7,8,9,10,11,12,13,14\\], how to generate an array R = \\[\\[1,2,3,4\\], \\[2,3,4,5\\], \\[3,4,5,6\\], ..., \\[11,12,13,14\\]\\]? (★★★) \n",
        "(**hint**: stride\\_tricks.as\\_strided)"
      ]
    },
    {
      "cell_type": "code",
      "execution_count": 109,
      "metadata": {
        "id": "bh33EgfJ6TQp",
        "colab": {
          "base_uri": "https://localhost:8080/"
        },
        "outputId": "bb6e4b25-283d-4c0d-b40c-6f6a51f76563"
      },
      "outputs": [
        {
          "output_type": "stream",
          "name": "stdout",
          "text": [
            "[[ 1  2  3  4]\n",
            " [ 2  3  4  5]\n",
            " [ 3  4  5  6]\n",
            " [ 4  5  6  7]\n",
            " [ 5  6  7  8]\n",
            " [ 6  7  8  9]\n",
            " [ 7  8  9 10]\n",
            " [ 8  9 10 11]\n",
            " [ 9 10 11 12]\n",
            " [10 11 12 13]\n",
            " [11 12 13 14]]\n"
          ]
        }
      ],
      "source": [
        "Z = np.arange(1,15,dtype=np.uint32)\n",
        "R = stride_tricks.as_strided(Z,(11,4),(4,4))\n",
        "print(R)"
      ]
    },
    {
      "cell_type": "markdown",
      "metadata": {
        "id": "GcfiKElX6TQq"
      },
      "source": [
        "#### 82. Compute a matrix rank (★★★) \n",
        "(**hint**: np.linalg.svd) (suggestion: np.linalg.svd)"
      ]
    },
    {
      "cell_type": "code",
      "execution_count": 110,
      "metadata": {
        "id": "7CQhqZ326TQq",
        "colab": {
          "base_uri": "https://localhost:8080/"
        },
        "outputId": "9882236c-1848-47af-f7ca-acf6ceb2ad91"
      },
      "outputs": [
        {
          "output_type": "stream",
          "name": "stdout",
          "text": [
            "10\n"
          ]
        }
      ],
      "source": [
        "Z = np.random.uniform(0,1,(10,10))\n",
        "U, S, V = np.linalg.svd(Z) # Singular Value Decomposition\n",
        "rank = np.sum(S > 1e-10)\n",
        "print(rank)"
      ]
    },
    {
      "cell_type": "markdown",
      "metadata": {
        "id": "NQejtipu6TQq"
      },
      "source": [
        "#### 83. How to find the most frequent value in an array? \n",
        "(**hint**: np.bincount, argmax)"
      ]
    },
    {
      "cell_type": "code",
      "execution_count": 111,
      "metadata": {
        "id": "v2BKSDgn6TQr",
        "colab": {
          "base_uri": "https://localhost:8080/"
        },
        "outputId": "c0ded77c-b7bb-4b05-edbe-9fd37eea1cce"
      },
      "outputs": [
        {
          "output_type": "stream",
          "name": "stdout",
          "text": [
            "2\n"
          ]
        }
      ],
      "source": [
        "Z = np.random.randint(0,10,50)\n",
        "print(np.bincount(Z).argmax())"
      ]
    },
    {
      "cell_type": "markdown",
      "metadata": {
        "id": "8_pdY6ZK6TQr"
      },
      "source": [
        "#### 84. Extract all the contiguous 3x3 blocks from a random 10x10 matrix (★★★) \n",
        "(**hint**: stride\\_tricks.as\\_strided)"
      ]
    },
    {
      "cell_type": "code",
      "execution_count": 112,
      "metadata": {
        "id": "38zMRwPr6TQs",
        "colab": {
          "base_uri": "https://localhost:8080/"
        },
        "outputId": "b936164e-14c5-469f-cfd8-4134193a3109"
      },
      "outputs": [
        {
          "output_type": "stream",
          "name": "stdout",
          "text": [
            "[[[[2 1 0]\n",
            "   [3 1 0]\n",
            "   [4 0 0]]\n",
            "\n",
            "  [[1 0 4]\n",
            "   [1 0 4]\n",
            "   [0 0 3]]\n",
            "\n",
            "  [[0 4 2]\n",
            "   [0 4 3]\n",
            "   [0 3 1]]\n",
            "\n",
            "  [[4 2 1]\n",
            "   [4 3 3]\n",
            "   [3 1 3]]\n",
            "\n",
            "  [[2 1 3]\n",
            "   [3 3 3]\n",
            "   [1 3 3]]\n",
            "\n",
            "  [[1 3 0]\n",
            "   [3 3 3]\n",
            "   [3 3 4]]\n",
            "\n",
            "  [[3 0 2]\n",
            "   [3 3 1]\n",
            "   [3 4 0]]\n",
            "\n",
            "  [[0 2 0]\n",
            "   [3 1 1]\n",
            "   [4 0 1]]]\n",
            "\n",
            "\n",
            " [[[3 1 0]\n",
            "   [4 0 0]\n",
            "   [3 1 4]]\n",
            "\n",
            "  [[1 0 4]\n",
            "   [0 0 3]\n",
            "   [1 4 0]]\n",
            "\n",
            "  [[0 4 3]\n",
            "   [0 3 1]\n",
            "   [4 0 2]]\n",
            "\n",
            "  [[4 3 3]\n",
            "   [3 1 3]\n",
            "   [0 2 4]]\n",
            "\n",
            "  [[3 3 3]\n",
            "   [1 3 3]\n",
            "   [2 4 4]]\n",
            "\n",
            "  [[3 3 3]\n",
            "   [3 3 4]\n",
            "   [4 4 0]]\n",
            "\n",
            "  [[3 3 1]\n",
            "   [3 4 0]\n",
            "   [4 0 1]]\n",
            "\n",
            "  [[3 1 1]\n",
            "   [4 0 1]\n",
            "   [0 1 0]]]\n",
            "\n",
            "\n",
            " [[[4 0 0]\n",
            "   [3 1 4]\n",
            "   [2 2 0]]\n",
            "\n",
            "  [[0 0 3]\n",
            "   [1 4 0]\n",
            "   [2 0 0]]\n",
            "\n",
            "  [[0 3 1]\n",
            "   [4 0 2]\n",
            "   [0 0 0]]\n",
            "\n",
            "  [[3 1 3]\n",
            "   [0 2 4]\n",
            "   [0 0 2]]\n",
            "\n",
            "  [[1 3 3]\n",
            "   [2 4 4]\n",
            "   [0 2 2]]\n",
            "\n",
            "  [[3 3 4]\n",
            "   [4 4 0]\n",
            "   [2 2 0]]\n",
            "\n",
            "  [[3 4 0]\n",
            "   [4 0 1]\n",
            "   [2 0 1]]\n",
            "\n",
            "  [[4 0 1]\n",
            "   [0 1 0]\n",
            "   [0 1 1]]]\n",
            "\n",
            "\n",
            " [[[3 1 4]\n",
            "   [2 2 0]\n",
            "   [3 0 0]]\n",
            "\n",
            "  [[1 4 0]\n",
            "   [2 0 0]\n",
            "   [0 0 4]]\n",
            "\n",
            "  [[4 0 2]\n",
            "   [0 0 0]\n",
            "   [0 4 0]]\n",
            "\n",
            "  [[0 2 4]\n",
            "   [0 0 2]\n",
            "   [4 0 3]]\n",
            "\n",
            "  [[2 4 4]\n",
            "   [0 2 2]\n",
            "   [0 3 3]]\n",
            "\n",
            "  [[4 4 0]\n",
            "   [2 2 0]\n",
            "   [3 3 0]]\n",
            "\n",
            "  [[4 0 1]\n",
            "   [2 0 1]\n",
            "   [3 0 1]]\n",
            "\n",
            "  [[0 1 0]\n",
            "   [0 1 1]\n",
            "   [0 1 4]]]\n",
            "\n",
            "\n",
            " [[[2 2 0]\n",
            "   [3 0 0]\n",
            "   [0 2 0]]\n",
            "\n",
            "  [[2 0 0]\n",
            "   [0 0 4]\n",
            "   [2 0 1]]\n",
            "\n",
            "  [[0 0 0]\n",
            "   [0 4 0]\n",
            "   [0 1 3]]\n",
            "\n",
            "  [[0 0 2]\n",
            "   [4 0 3]\n",
            "   [1 3 1]]\n",
            "\n",
            "  [[0 2 2]\n",
            "   [0 3 3]\n",
            "   [3 1 2]]\n",
            "\n",
            "  [[2 2 0]\n",
            "   [3 3 0]\n",
            "   [1 2 2]]\n",
            "\n",
            "  [[2 0 1]\n",
            "   [3 0 1]\n",
            "   [2 2 2]]\n",
            "\n",
            "  [[0 1 1]\n",
            "   [0 1 4]\n",
            "   [2 2 2]]]\n",
            "\n",
            "\n",
            " [[[3 0 0]\n",
            "   [0 2 0]\n",
            "   [2 1 1]]\n",
            "\n",
            "  [[0 0 4]\n",
            "   [2 0 1]\n",
            "   [1 1 1]]\n",
            "\n",
            "  [[0 4 0]\n",
            "   [0 1 3]\n",
            "   [1 1 0]]\n",
            "\n",
            "  [[4 0 3]\n",
            "   [1 3 1]\n",
            "   [1 0 4]]\n",
            "\n",
            "  [[0 3 3]\n",
            "   [3 1 2]\n",
            "   [0 4 3]]\n",
            "\n",
            "  [[3 3 0]\n",
            "   [1 2 2]\n",
            "   [4 3 3]]\n",
            "\n",
            "  [[3 0 1]\n",
            "   [2 2 2]\n",
            "   [3 3 0]]\n",
            "\n",
            "  [[0 1 4]\n",
            "   [2 2 2]\n",
            "   [3 0 1]]]\n",
            "\n",
            "\n",
            " [[[0 2 0]\n",
            "   [2 1 1]\n",
            "   [2 0 4]]\n",
            "\n",
            "  [[2 0 1]\n",
            "   [1 1 1]\n",
            "   [0 4 0]]\n",
            "\n",
            "  [[0 1 3]\n",
            "   [1 1 0]\n",
            "   [4 0 3]]\n",
            "\n",
            "  [[1 3 1]\n",
            "   [1 0 4]\n",
            "   [0 3 4]]\n",
            "\n",
            "  [[3 1 2]\n",
            "   [0 4 3]\n",
            "   [3 4 1]]\n",
            "\n",
            "  [[1 2 2]\n",
            "   [4 3 3]\n",
            "   [4 1 1]]\n",
            "\n",
            "  [[2 2 2]\n",
            "   [3 3 0]\n",
            "   [1 1 1]]\n",
            "\n",
            "  [[2 2 2]\n",
            "   [3 0 1]\n",
            "   [1 1 1]]]\n",
            "\n",
            "\n",
            " [[[2 1 1]\n",
            "   [2 0 4]\n",
            "   [4 0 1]]\n",
            "\n",
            "  [[1 1 1]\n",
            "   [0 4 0]\n",
            "   [0 1 3]]\n",
            "\n",
            "  [[1 1 0]\n",
            "   [4 0 3]\n",
            "   [1 3 2]]\n",
            "\n",
            "  [[1 0 4]\n",
            "   [0 3 4]\n",
            "   [3 2 4]]\n",
            "\n",
            "  [[0 4 3]\n",
            "   [3 4 1]\n",
            "   [2 4 2]]\n",
            "\n",
            "  [[4 3 3]\n",
            "   [4 1 1]\n",
            "   [4 2 2]]\n",
            "\n",
            "  [[3 3 0]\n",
            "   [1 1 1]\n",
            "   [2 2 1]]\n",
            "\n",
            "  [[3 0 1]\n",
            "   [1 1 1]\n",
            "   [2 1 1]]]]\n"
          ]
        }
      ],
      "source": [
        "Z = np.random.randint(0,5,(10,10))\n",
        "n = 3\n",
        "i = 1 + (Z.shape[0]-3)\n",
        "j = 1 + (Z.shape[1]-3)\n",
        "C = stride_tricks.as_strided(Z, shape=(i, j, n, n), strides=Z.strides + Z.strides)\n",
        "print(C)"
      ]
    },
    {
      "cell_type": "markdown",
      "metadata": {
        "id": "BXFFZviL6TQs"
      },
      "source": [
        "#### 85. Create a 2D array subclass such that Z\\[i,j\\] == Z\\[j,i\\] (★★★) \n",
        "(**hint**: class method)"
      ]
    },
    {
      "cell_type": "code",
      "execution_count": 113,
      "metadata": {
        "id": "ral2Q0TI6TQs",
        "colab": {
          "base_uri": "https://localhost:8080/"
        },
        "outputId": "e0bdd2f5-49da-4fa5-fda0-ece8e1c69c96"
      },
      "outputs": [
        {
          "output_type": "stream",
          "name": "stdout",
          "text": [
            "[[ 7  9 12 18  5]\n",
            " [ 9  1  7  4  8]\n",
            " [12  7  0 42 15]\n",
            " [18  4 42  1  7]\n",
            " [ 5  8 15  7  7]]\n"
          ]
        }
      ],
      "source": [
        "class Symetric(np.ndarray):\n",
        "    def __setitem__(self, index, value):\n",
        "        i,j = index\n",
        "        super(Symetric, self).__setitem__((i,j), value)\n",
        "        super(Symetric, self).__setitem__((j,i), value)\n",
        "\n",
        "def symetric(Z):\n",
        "    return np.asarray(Z + Z.T - np.diag(Z.diagonal())).view(Symetric)\n",
        "\n",
        "S = symetric(np.random.randint(0,10,(5,5)))\n",
        "S[2,3] = 42\n",
        "print(S)"
      ]
    },
    {
      "cell_type": "markdown",
      "metadata": {
        "id": "ZXiXWYbV6TQt"
      },
      "source": [
        "#### 86. Consider a set of p matrices wich shape (n,n) and a set of p vectors with shape (n,1). How to compute the sum of of the p matrix products at once? (result has shape (n,1)) (★★★) \n",
        "(**hint**: np.tensordot)"
      ]
    },
    {
      "cell_type": "code",
      "execution_count": 114,
      "metadata": {
        "id": "mLC9_3BA6TQt",
        "colab": {
          "base_uri": "https://localhost:8080/"
        },
        "outputId": "f3ef1f0c-5e25-4706-9deb-79fbc6580063"
      },
      "outputs": [
        {
          "output_type": "stream",
          "name": "stdout",
          "text": [
            "[[200.]\n",
            " [200.]\n",
            " [200.]\n",
            " [200.]\n",
            " [200.]\n",
            " [200.]\n",
            " [200.]\n",
            " [200.]\n",
            " [200.]\n",
            " [200.]\n",
            " [200.]\n",
            " [200.]\n",
            " [200.]\n",
            " [200.]\n",
            " [200.]\n",
            " [200.]\n",
            " [200.]\n",
            " [200.]\n",
            " [200.]\n",
            " [200.]]\n"
          ]
        }
      ],
      "source": [
        "p, n = 10, 20\n",
        "M = np.ones((p,n,n))\n",
        "V = np.ones((p,n,1))\n",
        "S = np.tensordot(M, V, axes=[[0, 2], [0, 1]])\n",
        "print(S)"
      ]
    },
    {
      "cell_type": "markdown",
      "metadata": {
        "id": "QtEk2B-I6TQt"
      },
      "source": [
        "#### 87. Consider a 16x16 array, how to get the block-sum (block size is 4x4)? (★★★) \n",
        "(**hint**: np.add.reduceat)"
      ]
    },
    {
      "cell_type": "code",
      "execution_count": 115,
      "metadata": {
        "id": "kAdNPvK86TQu",
        "colab": {
          "base_uri": "https://localhost:8080/"
        },
        "outputId": "cb3c7215-e7da-4dce-9fc1-1110073ea4c1"
      },
      "outputs": [
        {
          "output_type": "stream",
          "name": "stdout",
          "text": [
            "[[16. 16. 16. 16.]\n",
            " [16. 16. 16. 16.]\n",
            " [16. 16. 16. 16.]\n",
            " [16. 16. 16. 16.]]\n"
          ]
        }
      ],
      "source": [
        "Z = np.ones((16,16))\n",
        "k = 4\n",
        "S = np.add.reduceat(np.add.reduceat(Z, np.arange(0, Z.shape[0], k), axis=0),\n",
        "                                       np.arange(0, Z.shape[1], k), axis=1)\n",
        "print(S)"
      ]
    },
    {
      "cell_type": "markdown",
      "metadata": {
        "id": "CgBqNlEG6TQu"
      },
      "source": [
        "#### 88. How to implement the Game of Life using numpy arrays? (★★★)"
      ]
    },
    {
      "cell_type": "code",
      "execution_count": 84,
      "metadata": {
        "id": "fYBMXTwu6TQu"
      },
      "outputs": [],
      "source": [
        ""
      ]
    },
    {
      "cell_type": "markdown",
      "metadata": {
        "id": "FQsdmMVZ6TQv"
      },
      "source": [
        "#### 89. How to get the n largest values of an array (★★★) \n",
        "(**hint**: np.argsort | np.argpartition)"
      ]
    },
    {
      "cell_type": "code",
      "execution_count": 116,
      "metadata": {
        "id": "0HkRFnz46TQv",
        "colab": {
          "base_uri": "https://localhost:8080/"
        },
        "outputId": "ef66bd76-5626-4974-af35-bd3e1056c382"
      },
      "outputs": [
        {
          "output_type": "stream",
          "name": "stdout",
          "text": [
            "[9995 9996 9997 9998 9999]\n",
            "[9998 9999 9997 9996 9995]\n"
          ]
        }
      ],
      "source": [
        "Z = np.arange(10000)\n",
        "np.random.shuffle(Z)\n",
        "n = 5\n",
        "\n",
        "# Slow\n",
        "print (Z[np.argsort(Z)[-n:]])\n",
        "\n",
        "# Fast\n",
        "print (Z[np.argpartition(-Z,n)[:n]])"
      ]
    },
    {
      "cell_type": "markdown",
      "metadata": {
        "id": "0-zGeh3x6TQv"
      },
      "source": [
        "#### 90. Given an arbitrary number of vectors, build the cartesian product (every combinations of every item) (★★★) \n",
        "(**hint**: np.indices)"
      ]
    },
    {
      "cell_type": "code",
      "execution_count": 117,
      "metadata": {
        "scrolled": true,
        "id": "GzsITW286TQw",
        "colab": {
          "base_uri": "https://localhost:8080/"
        },
        "outputId": "80527df3-417a-47f9-cd6e-7fa13f6ac17c"
      },
      "outputs": [
        {
          "output_type": "stream",
          "name": "stdout",
          "text": [
            "[[1 4 6]\n",
            " [1 4 7]\n",
            " [1 5 6]\n",
            " [1 5 7]\n",
            " [2 4 6]\n",
            " [2 4 7]\n",
            " [2 5 6]\n",
            " [2 5 7]\n",
            " [3 4 6]\n",
            " [3 4 7]\n",
            " [3 5 6]\n",
            " [3 5 7]]\n"
          ]
        }
      ],
      "source": [
        "def cartesian(arrays):\n",
        "    arrays = [np.asarray(a) for a in arrays]\n",
        "    shape = (len(x) for x in arrays)\n",
        "\n",
        "    ix = np.indices(shape, dtype=int)\n",
        "    ix = ix.reshape(len(arrays), -1).T\n",
        "\n",
        "    for n, arr in enumerate(arrays):\n",
        "        ix[:, n] = arrays[n][ix[:, n]]\n",
        "\n",
        "    return ix\n",
        "\n",
        "print (cartesian(([1, 2, 3], [4, 5], [6, 7])))"
      ]
    },
    {
      "cell_type": "markdown",
      "metadata": {
        "id": "z0y6DHwP6TQw"
      },
      "source": [
        "#### 91. How to create a record array from a regular array? (★★★) \n",
        "(**hint**: np.core.records.fromarrays)"
      ]
    },
    {
      "cell_type": "code",
      "execution_count": 84,
      "metadata": {
        "id": "ylqj9AJb6TQx"
      },
      "outputs": [],
      "source": [
        ""
      ]
    },
    {
      "cell_type": "markdown",
      "metadata": {
        "id": "c627Zy5n6TQx"
      },
      "source": [
        "#### 92. Consider a large vector Z, compute Z to the power of 3 using 3 different methods (★★★) \n",
        "(**hint**: np.power, \\*, np.einsum)"
      ]
    },
    {
      "cell_type": "code",
      "execution_count": 84,
      "metadata": {
        "id": "obmUIQ316TQx"
      },
      "outputs": [],
      "source": [
        ""
      ]
    },
    {
      "cell_type": "markdown",
      "metadata": {
        "id": "kMVMG3aO6TQx"
      },
      "source": [
        "#### 93. Consider two arrays A and B of shape (8,3) and (2,2). How to find rows of A that contain elements of each row of B regardless of the order of the elements in B? (★★★) \n",
        "(**hint**: np.where)"
      ]
    },
    {
      "cell_type": "code",
      "execution_count": 118,
      "metadata": {
        "id": "8mJPFipw6TQy",
        "colab": {
          "base_uri": "https://localhost:8080/"
        },
        "outputId": "16bc107c-b848-4d15-bf9c-22b1b185b544"
      },
      "outputs": [
        {
          "output_type": "stream",
          "name": "stdout",
          "text": [
            "[2 3 5 6 7]\n"
          ]
        }
      ],
      "source": [
        "A = np.random.randint(0,5,(8,3))\n",
        "B = np.random.randint(0,5,(2,2))\n",
        "\n",
        "C = (A[..., np.newaxis, np.newaxis] == B)\n",
        "rows = np.where(C.any((3,1)).all(1))[0]\n",
        "print(rows)"
      ]
    },
    {
      "cell_type": "markdown",
      "metadata": {
        "id": "FUJmhQDx6TQy"
      },
      "source": [
        "#### 94. Considering a 10x3 matrix, extract rows with unequal values (e.g. \\[2,2,3\\]) (★★★)"
      ]
    },
    {
      "cell_type": "code",
      "execution_count": 84,
      "metadata": {
        "id": "qJo-aSFo6TQz"
      },
      "outputs": [],
      "source": [
        ""
      ]
    },
    {
      "cell_type": "markdown",
      "metadata": {
        "id": "ZNx4AtJE6TQz"
      },
      "source": [
        "#### 95. Convert a vector of ints into a matrix binary representation (★★★) \n",
        "(**hint**: np.unpackbits)"
      ]
    },
    {
      "cell_type": "code",
      "execution_count": 119,
      "metadata": {
        "id": "w0U1t_6n6TQz",
        "colab": {
          "base_uri": "https://localhost:8080/"
        },
        "outputId": "5275f78d-d390-432e-b0ff-17b41e794456"
      },
      "outputs": [
        {
          "output_type": "stream",
          "name": "stdout",
          "text": [
            "[[0 0 0 0 0 0 0 0]\n",
            " [0 0 0 0 0 0 0 1]\n",
            " [0 0 0 0 0 0 1 0]\n",
            " [0 0 0 0 0 0 1 1]\n",
            " [0 0 0 0 1 1 1 1]\n",
            " [0 0 0 1 0 0 0 0]\n",
            " [0 0 1 0 0 0 0 0]\n",
            " [0 1 0 0 0 0 0 0]\n",
            " [1 0 0 0 0 0 0 0]]\n",
            "[[0 0 0 0 0 0 0 0]\n",
            " [0 0 0 0 0 0 0 1]\n",
            " [0 0 0 0 0 0 1 0]\n",
            " [0 0 0 0 0 0 1 1]\n",
            " [0 0 0 0 1 1 1 1]\n",
            " [0 0 0 1 0 0 0 0]\n",
            " [0 0 1 0 0 0 0 0]\n",
            " [0 1 0 0 0 0 0 0]\n",
            " [1 0 0 0 0 0 0 0]]\n"
          ]
        }
      ],
      "source": [
        "I = np.array([0, 1, 2, 3, 15, 16, 32, 64, 128])\n",
        "B = ((I.reshape(-1,1) & (2**np.arange(8))) != 0).astype(int)\n",
        "print(B[:,::-1])\n",
        "\n",
        "I = np.array([0, 1, 2, 3, 15, 16, 32, 64, 128], dtype=np.uint8)\n",
        "print(np.unpackbits(I[:, np.newaxis], axis=1))"
      ]
    },
    {
      "cell_type": "markdown",
      "metadata": {
        "id": "UsWGf_3s6TQz"
      },
      "source": [
        "#### 96. Given a two dimensional array, how to extract unique rows? (★★★) \n",
        "(**hint**: np.ascontiguousarray)"
      ]
    },
    {
      "cell_type": "code",
      "execution_count": 84,
      "metadata": {
        "id": "Gwt7i4c06TQ0"
      },
      "outputs": [],
      "source": [
        ""
      ]
    },
    {
      "cell_type": "markdown",
      "metadata": {
        "id": "5K1c0bJk6TQ0"
      },
      "source": [
        "#### 97. Considering 2 vectors A & B, write the einsum equivalent of inner, outer, sum, and mul function (★★★) \n",
        "(**hint**: np.einsum)"
      ]
    },
    {
      "cell_type": "code",
      "execution_count": 120,
      "metadata": {
        "id": "4qjYX5h76TQ0",
        "colab": {
          "base_uri": "https://localhost:8080/"
        },
        "outputId": "4654145e-30be-4e37-aaf8-ae9f96ebdb2d"
      },
      "outputs": [
        {
          "output_type": "execute_result",
          "data": {
            "text/plain": [
              "array([[0.36206225, 0.16300876, 0.13178802, 0.2664878 , 0.3233012 ,\n",
              "        0.02249043, 0.06994974, 0.02545561, 0.17087439, 0.07992068],\n",
              "       [0.73279579, 0.32992153, 0.26673234, 0.53935791, 0.65434538,\n",
              "        0.04551951, 0.14157476, 0.05152088, 0.34584117, 0.16175544],\n",
              "       [0.3986038 , 0.17946061, 0.14508888, 0.29338339, 0.35593075,\n",
              "        0.02476031, 0.0770095 , 0.02802475, 0.18812008, 0.08798677],\n",
              "       [0.40643782, 0.18298766, 0.14794041, 0.29914944, 0.36292608,\n",
              "        0.02524694, 0.07852302, 0.02857554, 0.19181733, 0.08971603],\n",
              "       [0.640658  , 0.28843898, 0.23319485, 0.47154196, 0.57207152,\n",
              "        0.03979613, 0.12377391, 0.04504293, 0.30235697, 0.14141718],\n",
              "       [0.34392015, 0.15484077, 0.12518443, 0.25313472, 0.30710133,\n",
              "        0.02136349, 0.06644472, 0.02418009, 0.16231227, 0.07591604],\n",
              "       [0.26705708, 0.12023524, 0.09720683, 0.19656137, 0.23846693,\n",
              "        0.01658894, 0.05159492, 0.01877606, 0.12603693, 0.05894948],\n",
              "       [0.04329153, 0.01949084, 0.0157578 , 0.03186376, 0.03865689,\n",
              "        0.00268917, 0.00836384, 0.00304371, 0.02043133, 0.00955606],\n",
              "       [0.7581227 , 0.34132429, 0.27595115, 0.55799921, 0.67696088,\n",
              "        0.04709275, 0.14646787, 0.05330155, 0.35779414, 0.16734603],\n",
              "       [0.07472906, 0.03364475, 0.02720084, 0.05500265, 0.06672885,\n",
              "        0.00464199, 0.01443751, 0.005254  , 0.0352682 , 0.0164955 ]])"
            ]
          },
          "metadata": {},
          "execution_count": 120
        }
      ],
      "source": [
        "A = np.random.uniform(0,1,10)\n",
        "B = np.random.uniform(0,1,10)\n",
        "\n",
        "np.einsum('i->', A)       # np.sum(A)\n",
        "np.einsum('i,i->i', A, B) # A * B\n",
        "np.einsum('i,i', A, B)    # np.inner(A, B)\n",
        "np.einsum('i,j->ij', A, B)    # np.outer(A, B)"
      ]
    },
    {
      "cell_type": "markdown",
      "metadata": {
        "id": "cY6eq3ip6TQ0"
      },
      "source": [
        "#### 98. Considering a path described by two vectors (X,Y), how to sample it using equidistant samples (★★★)? \n",
        "(**hint**: np.cumsum, np.interp)"
      ]
    },
    {
      "cell_type": "code",
      "execution_count": 121,
      "metadata": {
        "collapsed": true,
        "id": "fCj0iNsa6TQ0"
      },
      "outputs": [],
      "source": [
        "phi = np.arange(0, 10*np.pi, 0.1)\n",
        "a = 1\n",
        "x = a*phi*np.cos(phi)\n",
        "y = a*phi*np.sin(phi)\n",
        "\n",
        "dr = (np.diff(x)**2 + np.diff(y)**2)**.5 # segment lengths\n",
        "r = np.zeros_like(x)\n",
        "r[1:] = np.cumsum(dr)                # integrate path\n",
        "r_int = np.linspace(0, r.max(), 200) # regular spaced path\n",
        "x_int = np.interp(r_int, r, x)       # integrate path\n",
        "y_int = np.interp(r_int, r, y)"
      ]
    },
    {
      "cell_type": "markdown",
      "metadata": {
        "id": "Vwd9lh796TQ1"
      },
      "source": [
        "#### 99. Given an integer n and a 2D array X, select from X the rows which can be interpreted as draws from a multinomial distribution with n degrees, i.e., the rows which only contain integers and which sum to n. (★★★) \n",
        "(**hint**: np.logical\\_and.reduce, np.mod)"
      ]
    },
    {
      "cell_type": "code",
      "execution_count": 122,
      "metadata": {
        "id": "-RRCB1BQ6TQ1",
        "colab": {
          "base_uri": "https://localhost:8080/"
        },
        "outputId": "072473c1-8e10-42ad-c928-c4c6444d3920"
      },
      "outputs": [
        {
          "output_type": "stream",
          "name": "stdout",
          "text": [
            "[[2. 0. 1. 1.]]\n"
          ]
        }
      ],
      "source": [
        "X = np.asarray([[1.0, 0.0, 3.0, 8.0],\n",
        "                [2.0, 0.0, 1.0, 1.0],\n",
        "                [1.5, 2.5, 1.0, 0.0]])\n",
        "n = 4\n",
        "M = np.logical_and.reduce(np.mod(X, 1) == 0, axis=-1)\n",
        "M &= (X.sum(axis=-1) == n)\n",
        "print(X[M])"
      ]
    },
    {
      "cell_type": "markdown",
      "metadata": {
        "id": "oAVrXue76TQ1"
      },
      "source": [
        "#### 100. Compute bootstrapped 95% confidence intervals for the mean of a 1D array X (i.e., resample the elements of an array with replacement N times, compute the mean of each sample, and then compute percentiles over the means). (★★★) \n",
        "(**hint**: np.percentile)"
      ]
    },
    {
      "cell_type": "code",
      "execution_count": 123,
      "metadata": {
        "id": "kXOR1-Ot6TQ1",
        "colab": {
          "base_uri": "https://localhost:8080/"
        },
        "outputId": "fe61cfbc-bf18-4c78-8f63-2da26162a73e"
      },
      "outputs": [
        {
          "output_type": "stream",
          "name": "stdout",
          "text": [
            "[-0.10826625  0.30684483]\n"
          ]
        }
      ],
      "source": [
        "X = np.random.randn(100) # random 1D array\n",
        "N = 1000 # number of bootstrap samples\n",
        "idx = np.random.randint(0, X.size, (N, X.size))\n",
        "means = X[idx].mean(axis=1)\n",
        "confint = np.percentile(means, [2.5, 97.5])\n",
        "print(confint)"
      ]
    },
    {
      "cell_type": "code",
      "source": [
        ""
      ],
      "metadata": {
        "id": "QBekPpdnFW4t"
      },
      "execution_count": null,
      "outputs": []
    }
  ],
  "metadata": {
    "kernelspec": {
      "display_name": "Python 3",
      "language": "python",
      "name": "python3"
    },
    "language_info": {
      "codemirror_mode": {
        "name": "ipython",
        "version": 3
      },
      "file_extension": ".py",
      "mimetype": "text/x-python",
      "name": "python",
      "nbconvert_exporter": "python",
      "pygments_lexer": "ipython3",
      "version": "3.8.3"
    },
    "colab": {
      "name": "Numpy_tasks1.ipynb",
      "provenance": [],
      "collapsed_sections": [
        "CgBqNlEG6TQu",
        "z0y6DHwP6TQw",
        "c627Zy5n6TQx",
        "FUJmhQDx6TQy",
        "UsWGf_3s6TQz"
      ]
    }
  },
  "nbformat": 4,
  "nbformat_minor": 0
}